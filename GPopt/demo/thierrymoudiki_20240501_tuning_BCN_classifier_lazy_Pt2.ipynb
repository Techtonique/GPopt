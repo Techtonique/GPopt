{
  "cells": [
    {
      "cell_type": "markdown",
      "metadata": {},
      "source": [
        "<a target=\"_blank\" href=\"https://colab.research.google.com/github/Techtonique/GPopt/blob/ucb/GPopt/demo/thierrymoudiki_20240501_tuning_BCN_classifier_lazy_Pt2.ipynb\">\n",
        "  <img src=\"https://colab.research.google.com/assets/colab-badge.svg\" alt=\"Open In Colab\"/>\n",
        "</a>"
      ]
    },
    {
      "cell_type": "markdown",
      "metadata": {
        "id": "ver1MWFiAIH1"
      },
      "source": [
        "# 1 - Install"
      ]
    },
    {
      "cell_type": "code",
      "execution_count": 1,
      "metadata": {
        "colab": {
          "base_uri": "https://localhost:8080/"
        },
        "id": "L7dr5u5k8hW9",
        "outputId": "f26bd34b-d73b-4fee-b97a-3df46a0d8018"
      },
      "outputs": [
        {
          "name": "stdout",
          "output_type": "stream",
          "text": [
            "Requirement already satisfied: BCN in /Users/t/Documents/Python_Packages/GPopt/venv/lib/python3.11/site-packages (0.7.1)\n",
            "Requirement already satisfied: joblib in /Users/t/Documents/Python_Packages/GPopt/venv/lib/python3.11/site-packages (from BCN) (1.4.0)\n",
            "Requirement already satisfied: numpy in /Users/t/Documents/Python_Packages/GPopt/venv/lib/python3.11/site-packages (from BCN) (1.26.4)\n",
            "Requirement already satisfied: rpy2 in /Users/t/Documents/Python_Packages/GPopt/venv/lib/python3.11/site-packages (from BCN) (3.5.16)\n",
            "Requirement already satisfied: scikit-learn in /Users/t/Documents/Python_Packages/GPopt/venv/lib/python3.11/site-packages (from BCN) (1.4.2)\n",
            "Requirement already satisfied: cffi>=1.15.1 in /Users/t/Documents/Python_Packages/GPopt/venv/lib/python3.11/site-packages (from rpy2->BCN) (1.16.0)\n",
            "Requirement already satisfied: jinja2 in /Users/t/Documents/Python_Packages/GPopt/venv/lib/python3.11/site-packages (from rpy2->BCN) (3.1.3)\n",
            "Requirement already satisfied: tzlocal in /Users/t/Documents/Python_Packages/GPopt/venv/lib/python3.11/site-packages (from rpy2->BCN) (5.2)\n",
            "Requirement already satisfied: scipy>=1.6.0 in /Users/t/Documents/Python_Packages/GPopt/venv/lib/python3.11/site-packages (from scikit-learn->BCN) (1.13.0)\n",
            "Requirement already satisfied: threadpoolctl>=2.0.0 in /Users/t/Documents/Python_Packages/GPopt/venv/lib/python3.11/site-packages (from scikit-learn->BCN) (3.5.0)\n",
            "Requirement already satisfied: pycparser in /Users/t/Documents/Python_Packages/GPopt/venv/lib/python3.11/site-packages (from cffi>=1.15.1->rpy2->BCN) (2.22)\n",
            "Requirement already satisfied: MarkupSafe>=2.0 in /Users/t/Documents/Python_Packages/GPopt/venv/lib/python3.11/site-packages (from jinja2->rpy2->BCN) (2.1.5)\n"
          ]
        }
      ],
      "source": [
        "!pip install BCN --upgrade --no-cache-dir"
      ]
    },
    {
      "cell_type": "code",
      "execution_count": 2,
      "metadata": {
        "colab": {
          "base_uri": "https://localhost:8080/"
        },
        "id": "IBA5fko_BA4V",
        "outputId": "122f3221-2fb1-409e-c4e8-17d9d1d8709c"
      },
      "outputs": [
        {
          "name": "stdout",
          "output_type": "stream",
          "text": [
            "Processing /Users/t/Documents/Python_Packages/GPopt\n",
            "  Preparing metadata (setup.py) ... \u001b[?25ldone\n",
            "\u001b[?25hRequirement already satisfied: joblib in /Users/t/Documents/Python_Packages/GPopt/venv/lib/python3.11/site-packages (from GPopt==0.6.0) (1.4.0)\n",
            "Requirement already satisfied: matplotlib in /Users/t/Documents/Python_Packages/GPopt/venv/lib/python3.11/site-packages (from GPopt==0.6.0) (3.8.4)\n",
            "Requirement already satisfied: nnetsauce in /Users/t/Documents/Python_Packages/GPopt/venv/lib/python3.11/site-packages (from GPopt==0.6.0) (0.20.0)\n",
            "Requirement already satisfied: numpy in /Users/t/Documents/Python_Packages/GPopt/venv/lib/python3.11/site-packages (from GPopt==0.6.0) (1.26.4)\n",
            "Requirement already satisfied: pandas in /Users/t/Documents/Python_Packages/GPopt/venv/lib/python3.11/site-packages (from GPopt==0.6.0) (2.2.2)\n",
            "Requirement already satisfied: scipy in /Users/t/Documents/Python_Packages/GPopt/venv/lib/python3.11/site-packages (from GPopt==0.6.0) (1.13.0)\n",
            "Requirement already satisfied: scikit-learn in /Users/t/Documents/Python_Packages/GPopt/venv/lib/python3.11/site-packages (from GPopt==0.6.0) (1.4.2)\n",
            "Requirement already satisfied: threadpoolctl in /Users/t/Documents/Python_Packages/GPopt/venv/lib/python3.11/site-packages (from GPopt==0.6.0) (3.5.0)\n",
            "Requirement already satisfied: contourpy>=1.0.1 in /Users/t/Documents/Python_Packages/GPopt/venv/lib/python3.11/site-packages (from matplotlib->GPopt==0.6.0) (1.2.1)\n",
            "Requirement already satisfied: cycler>=0.10 in /Users/t/Documents/Python_Packages/GPopt/venv/lib/python3.11/site-packages (from matplotlib->GPopt==0.6.0) (0.12.1)\n",
            "Requirement already satisfied: fonttools>=4.22.0 in /Users/t/Documents/Python_Packages/GPopt/venv/lib/python3.11/site-packages (from matplotlib->GPopt==0.6.0) (4.51.0)\n",
            "Requirement already satisfied: kiwisolver>=1.3.1 in /Users/t/Documents/Python_Packages/GPopt/venv/lib/python3.11/site-packages (from matplotlib->GPopt==0.6.0) (1.4.5)\n",
            "Requirement already satisfied: packaging>=20.0 in /Users/t/Documents/Python_Packages/GPopt/venv/lib/python3.11/site-packages (from matplotlib->GPopt==0.6.0) (24.0)\n",
            "Requirement already satisfied: pillow>=8 in /Users/t/Documents/Python_Packages/GPopt/venv/lib/python3.11/site-packages (from matplotlib->GPopt==0.6.0) (10.3.0)\n",
            "Requirement already satisfied: pyparsing>=2.3.1 in /Users/t/Documents/Python_Packages/GPopt/venv/lib/python3.11/site-packages (from matplotlib->GPopt==0.6.0) (3.1.2)\n",
            "Requirement already satisfied: python-dateutil>=2.7 in /Users/t/Documents/Python_Packages/GPopt/venv/lib/python3.11/site-packages (from matplotlib->GPopt==0.6.0) (2.9.0.post0)\n",
            "Requirement already satisfied: requests in /Users/t/Documents/Python_Packages/GPopt/venv/lib/python3.11/site-packages (from nnetsauce->GPopt==0.6.0) (2.31.0)\n",
            "Requirement already satisfied: tqdm in /Users/t/Documents/Python_Packages/GPopt/venv/lib/python3.11/site-packages (from nnetsauce->GPopt==0.6.0) (4.66.2)\n",
            "Requirement already satisfied: jax in /Users/t/Documents/Python_Packages/GPopt/venv/lib/python3.11/site-packages (from nnetsauce->GPopt==0.6.0) (0.4.26)\n",
            "Requirement already satisfied: jaxlib in /Users/t/Documents/Python_Packages/GPopt/venv/lib/python3.11/site-packages (from nnetsauce->GPopt==0.6.0) (0.4.26)\n",
            "Requirement already satisfied: pytz>=2020.1 in /Users/t/Documents/Python_Packages/GPopt/venv/lib/python3.11/site-packages (from pandas->GPopt==0.6.0) (2024.1)\n",
            "Requirement already satisfied: tzdata>=2022.7 in /Users/t/Documents/Python_Packages/GPopt/venv/lib/python3.11/site-packages (from pandas->GPopt==0.6.0) (2024.1)\n",
            "Requirement already satisfied: six>=1.5 in /Users/t/Documents/Python_Packages/GPopt/venv/lib/python3.11/site-packages (from python-dateutil>=2.7->matplotlib->GPopt==0.6.0) (1.16.0)\n",
            "Requirement already satisfied: ml-dtypes>=0.2.0 in /Users/t/Documents/Python_Packages/GPopt/venv/lib/python3.11/site-packages (from jax->nnetsauce->GPopt==0.6.0) (0.4.0)\n",
            "Requirement already satisfied: opt-einsum in /Users/t/Documents/Python_Packages/GPopt/venv/lib/python3.11/site-packages (from jax->nnetsauce->GPopt==0.6.0) (3.3.0)\n",
            "Requirement already satisfied: charset-normalizer<4,>=2 in /Users/t/Documents/Python_Packages/GPopt/venv/lib/python3.11/site-packages (from requests->nnetsauce->GPopt==0.6.0) (3.3.2)\n",
            "Requirement already satisfied: idna<4,>=2.5 in /Users/t/Documents/Python_Packages/GPopt/venv/lib/python3.11/site-packages (from requests->nnetsauce->GPopt==0.6.0) (3.7)\n",
            "Requirement already satisfied: urllib3<3,>=1.21.1 in /Users/t/Documents/Python_Packages/GPopt/venv/lib/python3.11/site-packages (from requests->nnetsauce->GPopt==0.6.0) (2.2.1)\n",
            "Requirement already satisfied: certifi>=2017.4.17 in /Users/t/Documents/Python_Packages/GPopt/venv/lib/python3.11/site-packages (from requests->nnetsauce->GPopt==0.6.0) (2024.2.2)\n",
            "Building wheels for collected packages: GPopt\n",
            "  Building wheel for GPopt (setup.py) ... \u001b[?25ldone\n",
            "\u001b[?25h  Created wheel for GPopt: filename=GPopt-0.6.0-py2.py3-none-any.whl size=71111 sha256=3ee3776195b8ec572fd012d3a268109f0469f3adbc977254c52ebed7c9776a5d\n",
            "  Stored in directory: /private/var/folders/cp/q8d6040n3m38d22z3hkk1zc40000gn/T/pip-ephem-wheel-cache-_6j23xlp/wheels/18/c5/f2/2bcb5749155d04d8e285ee88d9c1f7d49467719147ee803dc9\n",
            "Successfully built GPopt\n",
            "Installing collected packages: GPopt\n",
            "  Attempting uninstall: GPopt\n",
            "    Found existing installation: GPopt 0.6.0\n",
            "    Uninstalling GPopt-0.6.0:\n",
            "      Successfully uninstalled GPopt-0.6.0\n",
            "Successfully installed GPopt-0.6.0\n"
          ]
        }
      ],
      "source": [
        "!pip install ../.. --upgrade --no-cache-dir"
      ]
    },
    {
      "cell_type": "code",
      "execution_count": 3,
      "metadata": {
        "id": "FV7pttAu8pXP"
      },
      "outputs": [],
      "source": [
        "import BCN as bcn # takes a long time to run, ONLY the first time it's run\n",
        "import GPopt as gp\n",
        "import numpy as np\n",
        "\n",
        "from sklearn.gaussian_process import GaussianProcessRegressor\n",
        "from sklearn.gaussian_process.kernels import Matern\n",
        "from sklearn.datasets import load_iris, load_wine, load_breast_cancer\n",
        "from sklearn.model_selection import train_test_split\n",
        "from sklearn import metrics\n",
        "from time import time"
      ]
    },
    {
      "cell_type": "markdown",
      "metadata": {
        "id": "YniHGO9AAac2"
      },
      "source": [
        "# 2 - cv"
      ]
    },
    {
      "cell_type": "code",
      "execution_count": 4,
      "metadata": {
        "id": "LIGGEBbxCznR"
      },
      "outputs": [],
      "source": [
        "from sklearn.model_selection import cross_val_score"
      ]
    },
    {
      "cell_type": "code",
      "execution_count": 5,
      "metadata": {
        "id": "fIgPu1vBAd7X"
      },
      "outputs": [],
      "source": [
        "def bcn_cv(X_train, y_train,\n",
        "               B = 10, nu = 0.335855,\n",
        "               lam = 10**0.7837525,\n",
        "               r = 1 - 10**(-5.470031),\n",
        "               tol = 10**-7,\n",
        "               col_sample=1,\n",
        "               n_clusters = 3):\n",
        "\n",
        "  estimator  = bcn.BCNClassifier(B = int(B),\n",
        "                                 nu = nu,\n",
        "                                 lam = lam,\n",
        "                                 r = r,\n",
        "                                 tol = tol,\n",
        "                                 col_sample = col_sample,\n",
        "                                 n_clusters = n_clusters,\n",
        "                                 activation=\"tanh\",\n",
        "                                 type_optim=\"nlminb\",\n",
        "                                 show_progress = False)\n",
        "\n",
        "  return -cross_val_score(estimator, X_train, y_train,\n",
        "                          scoring='accuracy',\n",
        "                          cv=5, n_jobs=None,\n",
        "                          verbose=0).mean()\n",
        "\n",
        "def optimize_bcn(X_train, y_train):\n",
        "  # objective function for hyperparams tuning\n",
        "  def crossval_objective(x):\n",
        "    return bcn_cv(X_train=X_train,\n",
        "                  y_train=y_train,\n",
        "                  B = int(x[0]),\n",
        "                  nu = 10**x[1],\n",
        "                  lam = 10**x[2],\n",
        "                  r = 1 - 10**x[3],\n",
        "                  tol = 10**x[4],\n",
        "                  col_sample = np.ceil(x[5]),\n",
        "                  n_clusters = np.ceil(x[6]))\n",
        "  gp_opt = gp.GPOpt(objective_func=crossval_objective,\n",
        "                    lower_bound = np.array([   3,    -6, -10, -10,   -6, 0.8, 1]),\n",
        "                    upper_bound = np.array([ 100,  -0.1,  10,  -1, -0.1,   1, 4]),\n",
        "                    min_value = -1.0, \n",
        "                    n_init=10, n_iter=50, seed=3137)\n",
        "  return {'parameters': gp_opt.lazyoptimize(estimators = [\"BaggingRegressor\", \"ExtraTreesRegressor\", \"RandomForestRegressor\"],\n",
        "                                            verbose=2, abs_tol=1e-3), 'opt_object':  gp_opt}"
      ]
    },
    {
      "cell_type": "code",
      "execution_count": 6,
      "metadata": {
        "id": "cveAmrJZJUST"
      },
      "outputs": [],
      "source": [
        "datasets = [load_wine, load_iris, load_breast_cancer]"
      ]
    },
    {
      "cell_type": "code",
      "execution_count": 7,
      "metadata": {
        "colab": {
          "base_uri": "https://localhost:8080/"
        },
        "id": "dU2gF9rYC_Q_",
        "outputId": "600a5854-6c32-4603-d8b4-d4c0d4a44263"
      },
      "outputs": [
        {
          "name": "stdout",
          "output_type": "stream",
          "text": [
            "\n",
            " Creating initial design... \n",
            "\n",
            "point: [51.5  -3.05  0.   -5.5  -3.05  0.9   2.5 ]; score: -0.4083743842364532\n",
            "point: [75.75  -4.525  5.    -7.75  -1.575  0.85   3.25 ]; score: -0.4083743842364532\n",
            "point: [27.25  -1.575 -5.    -3.25  -4.525  0.95   1.75 ]; score: -0.8953201970443351\n",
            "point: [39.375  -3.7875  2.5    -8.875  -0.8375  0.975   1.375 ]; score: -0.4083743842364532\n",
            "point: [87.875  -0.8375 -7.5    -4.375  -3.7875  0.875   2.875 ]; score: -0.9438423645320198\n",
            "point: [63.625  -5.2625 -2.5    -6.625  -5.2625  0.925   3.625 ]; score: -0.4083743842364532\n",
            "point: [15.125  -2.3125  7.5    -2.125  -2.3125  0.825   2.125 ]; score: -0.4083743842364532\n",
            "point: [21.1875  -4.15625 -3.75    -3.8125  -2.68125  0.8375   1.1875 ]; score: -0.4083743842364532\n",
            "point: [69.6875  -1.20625  6.25    -8.3125  -5.63125  0.9375   2.6875 ]; score: -0.9438423645320198\n",
            "point: [93.9375  -5.63125  1.25    -1.5625  -4.15625  0.8875   3.4375 ]; score: -0.4083743842364532\n"
          ]
        },
        {
          "name": "stderr",
          "output_type": "stream",
          "text": [
            "100%|██████████| 250/250 [00:04<00:00, 52.36it/s]\n"
          ]
        },
        {
          "name": "stdout",
          "output_type": "stream",
          "text": [
            "\n",
            " ...Done. \n",
            "\n",
            "\n",
            " Optimization loop... \n",
            "\n",
            "iteration 1 -----\n",
            "current minimum:  [87.875  -0.8375 -7.5    -4.375  -3.7875  0.875   2.875 ]\n",
            "current minimum score:  -0.9438423645320198\n",
            "next parameter: [48.84765625 -0.67617187 -5.703125   -2.30078125 -5.14726563  0.97578125\n",
            "  1.05859375]\n",
            "score for next parameter: -1.0 \n",
            "\n",
            "\n",
            " Creating initial design... \n",
            "\n",
            "point: [51.5  -3.05  0.   -5.5  -3.05  0.9   2.5 ]; score: -0.4083743842364532\n",
            "point: [75.75  -4.525  5.    -7.75  -1.575  0.85   3.25 ]; score: -0.4083743842364532\n",
            "point: [27.25  -1.575 -5.    -3.25  -4.525  0.95   1.75 ]; score: -0.8953201970443351\n",
            "point: [39.375  -3.7875  2.5    -8.875  -0.8375  0.975   1.375 ]; score: -0.4083743842364532\n",
            "point: [87.875  -0.8375 -7.5    -4.375  -3.7875  0.875   2.875 ]; score: -0.9438423645320198\n",
            "point: [63.625  -5.2625 -2.5    -6.625  -5.2625  0.925   3.625 ]; score: -0.4083743842364532\n",
            "point: [15.125  -2.3125  7.5    -2.125  -2.3125  0.825   2.125 ]; score: -0.4083743842364532\n",
            "point: [21.1875  -4.15625 -3.75    -3.8125  -2.68125  0.8375   1.1875 ]; score: -0.4083743842364532\n",
            "point: [69.6875  -1.20625  6.25    -8.3125  -5.63125  0.9375   2.6875 ]; score: -0.9438423645320198\n",
            "point: [93.9375  -5.63125  1.25    -1.5625  -4.15625  0.8875   3.4375 ]; score: -0.4083743842364532\n"
          ]
        },
        {
          "ename": "ValueError",
          "evalue": "too many values to unpack (expected 3)",
          "output_type": "error",
          "traceback": [
            "\u001b[0;31m---------------------------------------------------------------------------\u001b[0m",
            "\u001b[0;31mValueError\u001b[0m                                Traceback (most recent call last)",
            "Cell \u001b[0;32mIn[7], line 12\u001b[0m\n\u001b[1;32m      8\u001b[0m X_train, X_test, y_train, y_test \u001b[38;5;241m=\u001b[39m train_test_split(X, y,\n\u001b[1;32m      9\u001b[0m                                                     test_size\u001b[38;5;241m=\u001b[39m\u001b[38;5;241m0.2\u001b[39m, random_state\u001b[38;5;241m=\u001b[39m\u001b[38;5;241m3137\u001b[39m)\n\u001b[1;32m     11\u001b[0m \u001b[38;5;66;03m# hyperparams tuning\u001b[39;00m\n\u001b[0;32m---> 12\u001b[0m res1 \u001b[38;5;241m=\u001b[39m \u001b[43moptimize_bcn\u001b[49m\u001b[43m(\u001b[49m\u001b[43mX_train\u001b[49m\u001b[43m,\u001b[49m\u001b[43m \u001b[49m\u001b[43my_train\u001b[49m\u001b[43m)\u001b[49m\n\u001b[1;32m     13\u001b[0m \u001b[38;5;28mprint\u001b[39m(res1)\n\u001b[1;32m     14\u001b[0m parameters \u001b[38;5;241m=\u001b[39m res1[\u001b[38;5;124m\"\u001b[39m\u001b[38;5;124mparameters\u001b[39m\u001b[38;5;124m\"\u001b[39m]\n",
            "Cell \u001b[0;32mIn[5], line 42\u001b[0m, in \u001b[0;36moptimize_bcn\u001b[0;34m(X_train, y_train)\u001b[0m\n\u001b[1;32m     28\u001b[0m   \u001b[38;5;28;01mreturn\u001b[39;00m bcn_cv(X_train\u001b[38;5;241m=\u001b[39mX_train,\n\u001b[1;32m     29\u001b[0m                 y_train\u001b[38;5;241m=\u001b[39my_train,\n\u001b[1;32m     30\u001b[0m                 B \u001b[38;5;241m=\u001b[39m \u001b[38;5;28mint\u001b[39m(x[\u001b[38;5;241m0\u001b[39m]),\n\u001b[0;32m   (...)\u001b[0m\n\u001b[1;32m     35\u001b[0m                 col_sample \u001b[38;5;241m=\u001b[39m np\u001b[38;5;241m.\u001b[39mceil(x[\u001b[38;5;241m5\u001b[39m]),\n\u001b[1;32m     36\u001b[0m                 n_clusters \u001b[38;5;241m=\u001b[39m np\u001b[38;5;241m.\u001b[39mceil(x[\u001b[38;5;241m6\u001b[39m]))\n\u001b[1;32m     37\u001b[0m gp_opt \u001b[38;5;241m=\u001b[39m gp\u001b[38;5;241m.\u001b[39mGPOpt(objective_func\u001b[38;5;241m=\u001b[39mcrossval_objective,\n\u001b[1;32m     38\u001b[0m                   lower_bound \u001b[38;5;241m=\u001b[39m np\u001b[38;5;241m.\u001b[39marray([   \u001b[38;5;241m3\u001b[39m,    \u001b[38;5;241m-\u001b[39m\u001b[38;5;241m6\u001b[39m, \u001b[38;5;241m-\u001b[39m\u001b[38;5;241m10\u001b[39m, \u001b[38;5;241m-\u001b[39m\u001b[38;5;241m10\u001b[39m,   \u001b[38;5;241m-\u001b[39m\u001b[38;5;241m6\u001b[39m, \u001b[38;5;241m0.8\u001b[39m, \u001b[38;5;241m1\u001b[39m]),\n\u001b[1;32m     39\u001b[0m                   upper_bound \u001b[38;5;241m=\u001b[39m np\u001b[38;5;241m.\u001b[39marray([ \u001b[38;5;241m100\u001b[39m,  \u001b[38;5;241m-\u001b[39m\u001b[38;5;241m0.1\u001b[39m,  \u001b[38;5;241m10\u001b[39m,  \u001b[38;5;241m-\u001b[39m\u001b[38;5;241m1\u001b[39m, \u001b[38;5;241m-\u001b[39m\u001b[38;5;241m0.1\u001b[39m,   \u001b[38;5;241m1\u001b[39m, \u001b[38;5;241m4\u001b[39m]),\n\u001b[1;32m     40\u001b[0m                   min_value \u001b[38;5;241m=\u001b[39m \u001b[38;5;241m-\u001b[39m\u001b[38;5;241m1.0\u001b[39m,\n\u001b[1;32m     41\u001b[0m                   n_init\u001b[38;5;241m=\u001b[39m\u001b[38;5;241m10\u001b[39m, n_iter\u001b[38;5;241m=\u001b[39m\u001b[38;5;241m190\u001b[39m, seed\u001b[38;5;241m=\u001b[39m\u001b[38;5;241m3137\u001b[39m)\n\u001b[0;32m---> 42\u001b[0m \u001b[38;5;28;01mreturn\u001b[39;00m {\u001b[38;5;124m'\u001b[39m\u001b[38;5;124mparameters\u001b[39m\u001b[38;5;124m'\u001b[39m: \u001b[43mgp_opt\u001b[49m\u001b[38;5;241;43m.\u001b[39;49m\u001b[43mlazyoptimize\u001b[49m\u001b[43m(\u001b[49m\u001b[43mestimators\u001b[49m\u001b[43m \u001b[49m\u001b[38;5;241;43m=\u001b[39;49m\u001b[43m \u001b[49m\u001b[43m[\u001b[49m\u001b[38;5;124;43m\"\u001b[39;49m\u001b[38;5;124;43mExtraTreesRegressor\u001b[39;49m\u001b[38;5;124;43m\"\u001b[39;49m\u001b[43m,\u001b[49m\u001b[43m \u001b[49m\u001b[38;5;124;43m\"\u001b[39;49m\u001b[38;5;124;43mRandomForestRegressor\u001b[39;49m\u001b[38;5;124;43m\"\u001b[39;49m\u001b[43m]\u001b[49m\u001b[43m,\u001b[49m\n\u001b[1;32m     43\u001b[0m \u001b[43m                                          \u001b[49m\u001b[43mverbose\u001b[49m\u001b[38;5;241;43m=\u001b[39;49m\u001b[38;5;241;43m2\u001b[39;49m\u001b[43m,\u001b[49m\u001b[43m \u001b[49m\u001b[43mabs_tol\u001b[49m\u001b[38;5;241;43m=\u001b[39;49m\u001b[38;5;241;43m1e-3\u001b[39;49m\u001b[43m)\u001b[49m, \u001b[38;5;124m'\u001b[39m\u001b[38;5;124mopt_object\u001b[39m\u001b[38;5;124m'\u001b[39m:  gp_opt}\n",
            "File \u001b[0;32m~/Documents/Python_Packages/GPopt/venv/lib/python3.11/site-packages/GPopt/GPOpt/GPOpt.py:860\u001b[0m, in \u001b[0;36mGPOpt.lazyoptimize\u001b[0;34m(self, verbose, n_more_iter, abs_tol, min_budget, func_args, estimators)\u001b[0m\n\u001b[1;32m    857\u001b[0m \u001b[38;5;28;01mfor\u001b[39;00m i \u001b[38;5;129;01min\u001b[39;00m \u001b[38;5;28mrange\u001b[39m(\u001b[38;5;28mlen\u001b[39m(\u001b[38;5;28mself\u001b[39m\u001b[38;5;241m.\u001b[39mregressors)):\n\u001b[1;32m    859\u001b[0m     \u001b[38;5;28mself\u001b[39m\u001b[38;5;241m.\u001b[39msurrogate_obj \u001b[38;5;241m=\u001b[39m \u001b[38;5;28mself\u001b[39m\u001b[38;5;241m.\u001b[39mregressors[i][\u001b[38;5;241m1\u001b[39m]\n\u001b[0;32m--> 860\u001b[0m     \u001b[38;5;28;43mself\u001b[39;49m\u001b[38;5;241;43m.\u001b[39;49m\u001b[43moptimize\u001b[49m\u001b[43m(\u001b[49m\n\u001b[1;32m    861\u001b[0m \u001b[43m        \u001b[49m\u001b[43mverbose\u001b[49m\u001b[38;5;241;43m=\u001b[39;49m\u001b[43mverbose\u001b[49m\u001b[43m,\u001b[49m\n\u001b[1;32m    862\u001b[0m \u001b[43m        \u001b[49m\u001b[43mn_more_iter\u001b[49m\u001b[38;5;241;43m=\u001b[39;49m\u001b[43mn_more_iter\u001b[49m\u001b[43m,\u001b[49m\n\u001b[1;32m    863\u001b[0m \u001b[43m        \u001b[49m\u001b[43mabs_tol\u001b[49m\u001b[38;5;241;43m=\u001b[39;49m\u001b[43mabs_tol\u001b[49m\u001b[43m,\u001b[49m\n\u001b[1;32m    864\u001b[0m \u001b[43m        \u001b[49m\u001b[43mmin_budget\u001b[49m\u001b[38;5;241;43m=\u001b[39;49m\u001b[43mmin_budget\u001b[49m\u001b[43m,\u001b[49m\n\u001b[1;32m    865\u001b[0m \u001b[43m        \u001b[49m\u001b[43mfunc_args\u001b[49m\u001b[38;5;241;43m=\u001b[39;49m\u001b[43mfunc_args\u001b[49m\u001b[43m,\u001b[49m\n\u001b[1;32m    866\u001b[0m \u001b[43m        \u001b[49m\u001b[43mmethod\u001b[49m\u001b[43m \u001b[49m\u001b[38;5;241;43m=\u001b[39;49m\u001b[43m \u001b[49m\u001b[38;5;124;43m\"\u001b[39;49m\u001b[38;5;124;43mmc\u001b[39;49m\u001b[38;5;124;43m\"\u001b[39;49m\u001b[43m,\u001b[49m\n\u001b[1;32m    867\u001b[0m \u001b[43m    \u001b[49m\u001b[43m)\u001b[49m\n\u001b[1;32m    869\u001b[0m \u001b[38;5;28mself\u001b[39m\u001b[38;5;241m.\u001b[39msurrogate_obj \u001b[38;5;241m=\u001b[39m \u001b[38;5;28;01mNone\u001b[39;00m\n",
            "File \u001b[0;32m~/Documents/Python_Packages/GPopt/venv/lib/python3.11/site-packages/GPopt/GPOpt/GPOpt.py:576\u001b[0m, in \u001b[0;36mGPOpt.optimize\u001b[0;34m(self, verbose, n_more_iter, abs_tol, min_budget, func_args, method)\u001b[0m\n\u001b[1;32m    570\u001b[0m     \u001b[38;5;28;01massert\u001b[39;00m \u001b[38;5;28mself\u001b[39m\u001b[38;5;241m.\u001b[39msurrogate_obj\u001b[38;5;241m.\u001b[39m\u001b[38;5;18m__class__\u001b[39m\u001b[38;5;241m.\u001b[39m\u001b[38;5;18m__name__\u001b[39m\u001b[38;5;241m.\u001b[39mstartswith(\n\u001b[1;32m    571\u001b[0m         \u001b[38;5;124m\"\u001b[39m\u001b[38;5;124mCustomRegressor\u001b[39m\u001b[38;5;124m\"\u001b[39m\n\u001b[1;32m    572\u001b[0m     ), \u001b[38;5;124m\"\u001b[39m\u001b[38;5;124mfor `method = \u001b[39m\u001b[38;5;124m'\u001b[39m\u001b[38;5;124mmc\u001b[39m\u001b[38;5;124m'\u001b[39m\u001b[38;5;124m`, the surrogate must be a nnetsauce.CustomRegressor()\u001b[39m\u001b[38;5;124m\"\u001b[39m\n\u001b[1;32m    573\u001b[0m     \u001b[38;5;28;01massert\u001b[39;00m (\n\u001b[1;32m    574\u001b[0m         \u001b[38;5;28mself\u001b[39m\u001b[38;5;241m.\u001b[39msurrogate_obj\u001b[38;5;241m.\u001b[39mreplications \u001b[38;5;129;01mis\u001b[39;00m \u001b[38;5;129;01mnot\u001b[39;00m \u001b[38;5;28;01mNone\u001b[39;00m\n\u001b[1;32m    575\u001b[0m     ), \u001b[38;5;124m\"\u001b[39m\u001b[38;5;124mfor `method = \u001b[39m\u001b[38;5;124m'\u001b[39m\u001b[38;5;124mmc\u001b[39m\u001b[38;5;124m'\u001b[39m\u001b[38;5;124m`, the surrogate must be a nnetsauce.CustomRegressor() with a number of \u001b[39m\u001b[38;5;124m'\u001b[39m\u001b[38;5;124mreplications\u001b[39m\u001b[38;5;124m'\u001b[39m\u001b[38;5;124m provided\u001b[39m\u001b[38;5;124m\"\u001b[39m\n\u001b[0;32m--> 576\u001b[0m     y_mean, y_std, _ \u001b[38;5;241m=\u001b[39m \u001b[38;5;28mself\u001b[39m\u001b[38;5;241m.\u001b[39msurrogate_fit_predict(\n\u001b[1;32m    577\u001b[0m         np\u001b[38;5;241m.\u001b[39masarray(\u001b[38;5;28mself\u001b[39m\u001b[38;5;241m.\u001b[39mparameters),\n\u001b[1;32m    578\u001b[0m         np\u001b[38;5;241m.\u001b[39masarray(\u001b[38;5;28mself\u001b[39m\u001b[38;5;241m.\u001b[39mscores),\n\u001b[1;32m    579\u001b[0m         \u001b[38;5;28mself\u001b[39m\u001b[38;5;241m.\u001b[39mx_choices,\n\u001b[1;32m    580\u001b[0m         return_std\u001b[38;5;241m=\u001b[39m\u001b[38;5;28;01mFalse\u001b[39;00m,\n\u001b[1;32m    581\u001b[0m         return_pi\u001b[38;5;241m=\u001b[39m\u001b[38;5;28;01mTrue\u001b[39;00m,\n\u001b[1;32m    582\u001b[0m     )\n\u001b[1;32m    584\u001b[0m \u001b[38;5;28mself\u001b[39m\u001b[38;5;241m.\u001b[39my_mean \u001b[38;5;241m=\u001b[39m y_mean\n\u001b[1;32m    585\u001b[0m \u001b[38;5;28mself\u001b[39m\u001b[38;5;241m.\u001b[39my_std \u001b[38;5;241m=\u001b[39m np\u001b[38;5;241m.\u001b[39mmaximum(\u001b[38;5;241m2.220446049250313e-16\u001b[39m, y_std)\n",
            "\u001b[0;31mValueError\u001b[0m: too many values to unpack (expected 3)"
          ]
        }
      ],
      "source": [
        "for elt in datasets:\n",
        "\n",
        "  dataset = elt()\n",
        "  X = dataset.data\n",
        "  y = dataset.target\n",
        "\n",
        "  # split data into training test and test set\n",
        "  X_train, X_test, y_train, y_test = train_test_split(X, y,\n",
        "                                                      test_size=0.2, random_state=3137)\n",
        "\n",
        "  # hyperparams tuning\n",
        "  res1 = optimize_bcn(X_train, y_train)\n",
        "  print(res1)\n",
        "  parameters = res1[\"parameters\"]\n",
        "  start = time()\n",
        "\n",
        "  start = time()\n",
        "  estimator = bcn.BCNClassifier(B=int(parameters[0][0]),\n",
        "                                nu=10**parameters[0][1],\n",
        "                                lam=10**parameters[0][2],\n",
        "                                r=1-10**parameters[0][3],\n",
        "                                tol=10**parameters[0][4],\n",
        "                                col_sample=np.ceil(parameters[0][5]),\n",
        "                                n_clusters=np.ceil(parameters[0][6]),\n",
        "                                activation=\"tanh\",\n",
        "                                type_optim=\"nlminb\").fit(X_train, y_train)\n",
        "  print(f\"\\n Elapsed: {time() - start}\")\n",
        "  start = time()\n",
        "  print(f\"\\n\\n Test set accuracy: {estimator.score(X_test, y_test)}\")\n",
        "  print(f\"\\n Elapsed: {time() - start}\")"
      ]
    },
    {
      "cell_type": "code",
      "execution_count": null,
      "metadata": {
        "id": "zo4LTC_PDEGp"
      },
      "outputs": [],
      "source": []
    }
  ],
  "metadata": {
    "colab": {
      "provenance": []
    },
    "kernelspec": {
      "display_name": "Python 3",
      "name": "python3"
    },
    "language_info": {
      "codemirror_mode": {
        "name": "ipython",
        "version": 3
      },
      "file_extension": ".py",
      "mimetype": "text/x-python",
      "name": "python",
      "nbconvert_exporter": "python",
      "pygments_lexer": "ipython3",
      "version": "3.11.8"
    }
  },
  "nbformat": 4,
  "nbformat_minor": 0
}
