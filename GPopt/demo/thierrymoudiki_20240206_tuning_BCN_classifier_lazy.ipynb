{
  "cells": [
    {
      "cell_type": "markdown",
      "metadata": {
        "id": "ver1MWFiAIH1"
      },
      "source": [
        "# 1 - Install"
      ]
    },
    {
      "cell_type": "markdown",
      "metadata": {},
      "source": [
        "<a target=\"_blank\" href=\"https://colab.research.google.com/github/Techtonique/GPopt/blob/ucb/GPopt/demo/thierrymoudiki_20240206_tuning_BCN_classifier_lazy.ipynb\">\n",
        "  <img src=\"https://colab.research.google.com/assets/colab-badge.svg\" alt=\"Open In Colab\"/>\n",
        "</a>"
      ]
    },
    {
      "cell_type": "code",
      "execution_count": 1,
      "metadata": {
        "id": "cxJzB_Pwry-O"
      },
      "outputs": [
        {
          "name": "stdout",
          "output_type": "stream",
          "text": [
            "\u001b[33mWARNING: Skipping BCN as it is not installed.\u001b[0m\u001b[33m\n",
            "\u001b[0m\u001b[33mWARNING: Skipping GPopt as it is not installed.\u001b[0m\u001b[33m\n",
            "\u001b[0m"
          ]
        }
      ],
      "source": [
        "!pip uninstall -y BCN GPopt"
      ]
    },
    {
      "cell_type": "code",
      "execution_count": 2,
      "metadata": {
        "id": "L7dr5u5k8hW9"
      },
      "outputs": [
        {
          "name": "stdout",
          "output_type": "stream",
          "text": [
            "Collecting BCN\n",
            "  Downloading BCN-0.7.1-py2.py3-none-any.whl.metadata (873 bytes)\n",
            "Collecting joblib (from BCN)\n",
            "  Downloading joblib-1.4.2-py3-none-any.whl.metadata (5.4 kB)\n",
            "Collecting numpy (from BCN)\n",
            "  Downloading numpy-1.26.4-cp311-cp311-macosx_10_9_x86_64.whl.metadata (61 kB)\n",
            "\u001b[2K     \u001b[90m━━━━━━━━━━━━━━━━━━━━━━━━━━━━━━━━━━━━━━━━\u001b[0m \u001b[32m61.1/61.1 kB\u001b[0m \u001b[31m1.1 MB/s\u001b[0m eta \u001b[36m0:00:00\u001b[0mta \u001b[36m0:00:01\u001b[0m\n",
            "\u001b[?25hCollecting rpy2 (from BCN)\n",
            "  Downloading rpy2-3.5.16-cp311-cp311-macosx_10_9_universal2.whl.metadata (4.5 kB)\n",
            "Collecting scikit-learn (from BCN)\n",
            "  Downloading scikit_learn-1.4.2-cp311-cp311-macosx_10_9_x86_64.whl.metadata (11 kB)\n",
            "Collecting cffi>=1.15.1 (from rpy2->BCN)\n",
            "  Downloading cffi-1.16.0-cp311-cp311-macosx_10_9_x86_64.whl.metadata (1.5 kB)\n",
            "Collecting jinja2 (from rpy2->BCN)\n",
            "  Downloading Jinja2-3.1.3-py3-none-any.whl.metadata (3.3 kB)\n",
            "Collecting tzlocal (from rpy2->BCN)\n",
            "  Downloading tzlocal-5.2-py3-none-any.whl.metadata (7.8 kB)\n",
            "Collecting scipy>=1.6.0 (from scikit-learn->BCN)\n",
            "  Downloading scipy-1.13.0-cp311-cp311-macosx_10_9_x86_64.whl.metadata (60 kB)\n",
            "\u001b[2K     \u001b[90m━━━━━━━━━━━━━━━━━━━━━━━━━━━━━━━━━━━━━━━\u001b[0m \u001b[32m60.6/60.6 kB\u001b[0m \u001b[31m615.9 kB/s\u001b[0m eta \u001b[36m0:00:00\u001b[0ma \u001b[36m0:00:01\u001b[0m\n",
            "\u001b[?25hCollecting threadpoolctl>=2.0.0 (from scikit-learn->BCN)\n",
            "  Downloading threadpoolctl-3.5.0-py3-none-any.whl.metadata (13 kB)\n",
            "Collecting pycparser (from cffi>=1.15.1->rpy2->BCN)\n",
            "  Downloading pycparser-2.22-py3-none-any.whl.metadata (943 bytes)\n",
            "Collecting MarkupSafe>=2.0 (from jinja2->rpy2->BCN)\n",
            "  Downloading MarkupSafe-2.1.5-cp311-cp311-macosx_10_9_x86_64.whl.metadata (3.0 kB)\n",
            "Downloading BCN-0.7.1-py2.py3-none-any.whl (7.6 kB)\n",
            "Downloading joblib-1.4.2-py3-none-any.whl (301 kB)\n",
            "\u001b[2K   \u001b[90m━━━━━━━━━━━━━━━━━━━━━━━━━━━━━━━━━━━━━━━\u001b[0m \u001b[32m301.8/301.8 kB\u001b[0m \u001b[31m581.9 kB/s\u001b[0m eta \u001b[36m0:00:00\u001b[0ma \u001b[36m0:00:01\u001b[0m\n",
            "\u001b[?25hDownloading numpy-1.26.4-cp311-cp311-macosx_10_9_x86_64.whl (20.6 MB)\n",
            "\u001b[2K   \u001b[90m━━━━━━━━━━━━━━━━━━━━━━━━━━━━━━━━━━━━━━━━\u001b[0m \u001b[32m20.6/20.6 MB\u001b[0m \u001b[31m619.8 kB/s\u001b[0m eta \u001b[36m0:00:00\u001b[0m00:01\u001b[0m00:01\u001b[0m\n",
            "\u001b[?25hDownloading rpy2-3.5.16-cp311-cp311-macosx_10_9_universal2.whl (299 kB)\n",
            "\u001b[2K   \u001b[90m━━━━━━━━━━━━━━━━━━━━━━━━━━━━━━━━━━━━━━━\u001b[0m \u001b[32m299.9/299.9 kB\u001b[0m \u001b[31m868.7 kB/s\u001b[0m eta \u001b[36m0:00:00\u001b[0ma \u001b[36m0:00:01\u001b[0m\n",
            "\u001b[?25hDownloading scikit_learn-1.4.2-cp311-cp311-macosx_10_9_x86_64.whl (11.6 MB)\n",
            "\u001b[2K   \u001b[90m━━━━━━━━━━━━━━━━━━━━━━━━━━━━━━━━━━━━━━━━\u001b[0m \u001b[32m11.6/11.6 MB\u001b[0m \u001b[31m400.5 kB/s\u001b[0m eta \u001b[36m0:00:00\u001b[0m00:01\u001b[0m00:01\u001b[0m\n",
            "\u001b[?25hDownloading cffi-1.16.0-cp311-cp311-macosx_10_9_x86_64.whl (182 kB)\n",
            "\u001b[2K   \u001b[90m━━━━━━━━━━━━━━━━━━━━━━━━━━━━━━━━━━━━━━━\u001b[0m \u001b[32m182.4/182.4 kB\u001b[0m \u001b[31m781.4 kB/s\u001b[0m eta \u001b[36m0:00:00\u001b[0ma \u001b[36m0:00:01\u001b[0m\n",
            "\u001b[?25hDownloading scipy-1.13.0-cp311-cp311-macosx_10_9_x86_64.whl (39.3 MB)\n",
            "\u001b[2K   \u001b[90m━━━━━━━━━━━━━━━━━━━━━━━━━━━━━━━━━━━━━━━━\u001b[0m \u001b[32m39.3/39.3 MB\u001b[0m \u001b[31m689.4 kB/s\u001b[0m eta \u001b[36m0:00:00\u001b[0m00:01\u001b[0m00:02\u001b[0m\n",
            "\u001b[?25hDownloading threadpoolctl-3.5.0-py3-none-any.whl (18 kB)\n",
            "Downloading Jinja2-3.1.3-py3-none-any.whl (133 kB)\n",
            "\u001b[2K   \u001b[90m━━━━━━━━━━━━━━━━━━━━━━━━━━━━━━━━━━━━━━━\u001b[0m \u001b[32m133.2/133.2 kB\u001b[0m \u001b[31m619.6 kB/s\u001b[0m eta \u001b[36m0:00:00\u001b[0ma \u001b[36m0:00:01\u001b[0m\n",
            "\u001b[?25hDownloading tzlocal-5.2-py3-none-any.whl (17 kB)\n",
            "Downloading MarkupSafe-2.1.5-cp311-cp311-macosx_10_9_x86_64.whl (14 kB)\n",
            "Downloading pycparser-2.22-py3-none-any.whl (117 kB)\n",
            "\u001b[2K   \u001b[90m━━━━━━━━━━━━━━━━━━━━━━━━━━━━━━━━━━━━━━━\u001b[0m \u001b[32m117.6/117.6 kB\u001b[0m \u001b[31m869.1 kB/s\u001b[0m eta \u001b[36m0:00:00\u001b[0ma \u001b[36m0:00:01\u001b[0m\n",
            "\u001b[?25hInstalling collected packages: tzlocal, threadpoolctl, pycparser, numpy, MarkupSafe, joblib, scipy, jinja2, cffi, scikit-learn, rpy2, BCN\n",
            "Successfully installed BCN-0.7.1 MarkupSafe-2.1.5 cffi-1.16.0 jinja2-3.1.3 joblib-1.4.2 numpy-1.26.4 pycparser-2.22 rpy2-3.5.16 scikit-learn-1.4.2 scipy-1.13.0 threadpoolctl-3.5.0 tzlocal-5.2\n"
          ]
        }
      ],
      "source": [
        "!pip install BCN --upgrade --no-cache-dir"
      ]
    },
    {
      "cell_type": "code",
      "execution_count": null,
      "metadata": {},
      "outputs": [],
      "source": []
    },
    {
      "cell_type": "code",
      "execution_count": 3,
      "metadata": {
        "id": "IBA5fko_BA4V"
      },
      "outputs": [
        {
          "name": "stdout",
          "output_type": "stream",
          "text": [
            "Processing /Users/t/Documents/Python_Packages/GPopt\n",
            "  Preparing metadata (setup.py) ... \u001b[?25ldone\n",
            "\u001b[?25hRequirement already satisfied: joblib in /Users/t/Documents/Python_Packages/GPopt/venv/lib/python3.11/site-packages (from GPopt==0.6.0) (1.4.2)\n",
            "Collecting matplotlib (from GPopt==0.6.0)\n",
            "  Downloading matplotlib-3.8.4-cp311-cp311-macosx_10_12_x86_64.whl.metadata (5.8 kB)\n",
            "Collecting nnetsauce (from GPopt==0.6.0)\n",
            "  Downloading nnetsauce-0.20.1-py2.py3-none-any.whl.metadata (822 bytes)\n",
            "Requirement already satisfied: numpy in /Users/t/Documents/Python_Packages/GPopt/venv/lib/python3.11/site-packages (from GPopt==0.6.0) (1.26.4)\n",
            "Collecting pandas (from GPopt==0.6.0)\n",
            "  Downloading pandas-2.2.2-cp311-cp311-macosx_10_9_x86_64.whl.metadata (19 kB)\n",
            "Requirement already satisfied: scipy in /Users/t/Documents/Python_Packages/GPopt/venv/lib/python3.11/site-packages (from GPopt==0.6.0) (1.13.0)\n",
            "Requirement already satisfied: scikit-learn in /Users/t/Documents/Python_Packages/GPopt/venv/lib/python3.11/site-packages (from GPopt==0.6.0) (1.4.2)\n",
            "Requirement already satisfied: threadpoolctl in /Users/t/Documents/Python_Packages/GPopt/venv/lib/python3.11/site-packages (from GPopt==0.6.0) (3.5.0)\n",
            "Collecting contourpy>=1.0.1 (from matplotlib->GPopt==0.6.0)\n",
            "  Downloading contourpy-1.2.1-cp311-cp311-macosx_10_9_x86_64.whl.metadata (5.8 kB)\n",
            "Collecting cycler>=0.10 (from matplotlib->GPopt==0.6.0)\n",
            "  Downloading cycler-0.12.1-py3-none-any.whl.metadata (3.8 kB)\n",
            "Collecting fonttools>=4.22.0 (from matplotlib->GPopt==0.6.0)\n",
            "  Downloading fonttools-4.51.0-cp311-cp311-macosx_10_9_x86_64.whl.metadata (159 kB)\n",
            "\u001b[2K     \u001b[90m━━━━━━━━━━━━━━━━━━━━━━━━━━━━━━━━━━━━━━━\u001b[0m \u001b[32m159.5/159.5 kB\u001b[0m \u001b[31m1.2 MB/s\u001b[0m eta \u001b[36m0:00:00\u001b[0ma \u001b[36m0:00:01\u001b[0m\n",
            "\u001b[?25hCollecting kiwisolver>=1.3.1 (from matplotlib->GPopt==0.6.0)\n",
            "  Downloading kiwisolver-1.4.5-cp311-cp311-macosx_10_9_x86_64.whl.metadata (6.4 kB)\n",
            "Requirement already satisfied: packaging>=20.0 in /Users/t/Documents/Python_Packages/GPopt/venv/lib/python3.11/site-packages (from matplotlib->GPopt==0.6.0) (24.0)\n",
            "Collecting pillow>=8 (from matplotlib->GPopt==0.6.0)\n",
            "  Downloading pillow-10.3.0-cp311-cp311-macosx_10_10_x86_64.whl.metadata (9.2 kB)\n",
            "Collecting pyparsing>=2.3.1 (from matplotlib->GPopt==0.6.0)\n",
            "  Downloading pyparsing-3.1.2-py3-none-any.whl.metadata (5.1 kB)\n",
            "Requirement already satisfied: python-dateutil>=2.7 in /Users/t/Documents/Python_Packages/GPopt/venv/lib/python3.11/site-packages (from matplotlib->GPopt==0.6.0) (2.9.0.post0)\n",
            "Collecting requests (from nnetsauce->GPopt==0.6.0)\n",
            "  Downloading requests-2.31.0-py3-none-any.whl.metadata (4.6 kB)\n",
            "Collecting tqdm (from nnetsauce->GPopt==0.6.0)\n",
            "  Downloading tqdm-4.66.4-py3-none-any.whl.metadata (57 kB)\n",
            "\u001b[2K     \u001b[90m━━━━━━━━━━━━━━━━━━━━━━━━━━━━━━━━━━━━━━━\u001b[0m \u001b[32m57.6/57.6 kB\u001b[0m \u001b[31m300.9 kB/s\u001b[0m eta \u001b[36m0:00:00\u001b[0ma \u001b[36m0:00:01\u001b[0m\n",
            "\u001b[?25hCollecting jax (from nnetsauce->GPopt==0.6.0)\n",
            "  Downloading jax-0.4.26-py3-none-any.whl.metadata (23 kB)\n",
            "Collecting jaxlib (from nnetsauce->GPopt==0.6.0)\n",
            "  Downloading jaxlib-0.4.26-cp311-cp311-macosx_10_14_x86_64.whl.metadata (1.8 kB)\n",
            "Collecting pytz>=2020.1 (from pandas->GPopt==0.6.0)\n",
            "  Downloading pytz-2024.1-py2.py3-none-any.whl.metadata (22 kB)\n",
            "Collecting tzdata>=2022.7 (from pandas->GPopt==0.6.0)\n",
            "  Downloading tzdata-2024.1-py2.py3-none-any.whl.metadata (1.4 kB)\n",
            "Requirement already satisfied: six>=1.5 in /Users/t/Documents/Python_Packages/GPopt/venv/lib/python3.11/site-packages (from python-dateutil>=2.7->matplotlib->GPopt==0.6.0) (1.16.0)\n",
            "Collecting ml-dtypes>=0.2.0 (from jax->nnetsauce->GPopt==0.6.0)\n",
            "  Downloading ml_dtypes-0.4.0-cp311-cp311-macosx_10_9_universal2.whl.metadata (20 kB)\n",
            "Collecting opt-einsum (from jax->nnetsauce->GPopt==0.6.0)\n",
            "  Downloading opt_einsum-3.3.0-py3-none-any.whl.metadata (6.5 kB)\n",
            "Collecting charset-normalizer<4,>=2 (from requests->nnetsauce->GPopt==0.6.0)\n",
            "  Downloading charset_normalizer-3.3.2-cp311-cp311-macosx_10_9_x86_64.whl.metadata (33 kB)\n",
            "Collecting idna<4,>=2.5 (from requests->nnetsauce->GPopt==0.6.0)\n",
            "  Downloading idna-3.7-py3-none-any.whl.metadata (9.9 kB)\n",
            "Collecting urllib3<3,>=1.21.1 (from requests->nnetsauce->GPopt==0.6.0)\n",
            "  Downloading urllib3-2.2.1-py3-none-any.whl.metadata (6.4 kB)\n",
            "Collecting certifi>=2017.4.17 (from requests->nnetsauce->GPopt==0.6.0)\n",
            "  Downloading certifi-2024.2.2-py3-none-any.whl.metadata (2.2 kB)\n",
            "Downloading matplotlib-3.8.4-cp311-cp311-macosx_10_12_x86_64.whl (7.6 MB)\n",
            "\u001b[2K   \u001b[90m━━━━━━━━━━━━━━━━━━━━━━━━━━━━━━━━━━━━━━━━\u001b[0m \u001b[32m7.6/7.6 MB\u001b[0m \u001b[31m604.2 kB/s\u001b[0m eta \u001b[36m0:00:00\u001b[0m00:01\u001b[0m00:01\u001b[0m\n",
            "\u001b[?25hDownloading nnetsauce-0.20.1-py2.py3-none-any.whl (165 kB)\n",
            "\u001b[2K   \u001b[90m━━━━━━━━━━━━━━━━━━━━━━━━━━━━━━━━━━━━━━━\u001b[0m \u001b[32m165.1/165.1 kB\u001b[0m \u001b[31m524.8 kB/s\u001b[0m eta \u001b[36m0:00:00\u001b[0m \u001b[36m0:00:01\u001b[0m\n",
            "\u001b[?25hDownloading pandas-2.2.2-cp311-cp311-macosx_10_9_x86_64.whl (12.6 MB)\n",
            "\u001b[2K   \u001b[90m━━━━━━━━━━━━━━━━━━━━━━━━━━━━━━━━━━━━━━━━\u001b[0m \u001b[32m12.6/12.6 MB\u001b[0m \u001b[31m1.1 MB/s\u001b[0m eta \u001b[36m0:00:00\u001b[0m00:01\u001b[0m00:01\u001b[0mm\n",
            "\u001b[?25hDownloading contourpy-1.2.1-cp311-cp311-macosx_10_9_x86_64.whl (262 kB)\n",
            "\u001b[2K   \u001b[90m━━━━━━━━━━━━━━━━━━━━━━━━━━━━━━━━━━━━━━━\u001b[0m \u001b[32m262.1/262.1 kB\u001b[0m \u001b[31m826.7 kB/s\u001b[0m eta \u001b[36m0:00:00\u001b[0ma \u001b[36m0:00:01\u001b[0m\n",
            "\u001b[?25hDownloading cycler-0.12.1-py3-none-any.whl (8.3 kB)\n",
            "Downloading fonttools-4.51.0-cp311-cp311-macosx_10_9_x86_64.whl (2.3 MB)\n",
            "\u001b[2K   \u001b[90m━━━━━━━━━━━━━━━━━━━━━━━━━━━━━━━━━━━━━━━━\u001b[0m \u001b[32m2.3/2.3 MB\u001b[0m \u001b[31m1.1 MB/s\u001b[0m eta \u001b[36m0:00:00\u001b[0ma \u001b[36m0:00:01\u001b[0m0m\n",
            "\u001b[?25hDownloading kiwisolver-1.4.5-cp311-cp311-macosx_10_9_x86_64.whl (68 kB)\n",
            "\u001b[2K   \u001b[90m━━━━━━━━━━━━━━━━━━━━━━━━━━━━━━━━━━━━━━━━\u001b[0m \u001b[32m68.2/68.2 kB\u001b[0m \u001b[31m29.1 MB/s\u001b[0m eta \u001b[36m0:00:00\u001b[0m\n",
            "\u001b[?25hDownloading pillow-10.3.0-cp311-cp311-macosx_10_10_x86_64.whl (3.5 MB)\n",
            "\u001b[2K   \u001b[90m━━━━━━━━━━━━━━━━━━━━━━━━━━━━━━━━━━━━━━━━\u001b[0m \u001b[32m3.5/3.5 MB\u001b[0m \u001b[31m1.2 MB/s\u001b[0m eta \u001b[36m0:00:00\u001b[0m00:01\u001b[0m00:01\u001b[0m0m\n",
            "\u001b[?25hDownloading pyparsing-3.1.2-py3-none-any.whl (103 kB)\n",
            "\u001b[2K   \u001b[90m━━━━━━━━━━━━━━━━━━━━━━━━━━━━━━━━━━━━━━━━\u001b[0m \u001b[32m103.2/103.2 kB\u001b[0m \u001b[31m1.1 MB/s\u001b[0m eta \u001b[36m0:00:00\u001b[0m \u001b[36m0:00:01\u001b[0m0m\n",
            "\u001b[?25hDownloading pytz-2024.1-py2.py3-none-any.whl (505 kB)\n",
            "\u001b[2K   \u001b[90m━━━━━━━━━━━━━━━━━━━━━━━━━━━━━━━━━━━━━━━━\u001b[0m \u001b[32m505.5/505.5 kB\u001b[0m \u001b[31m1.1 MB/s\u001b[0m eta \u001b[36m0:00:00\u001b[0ma \u001b[36m0:00:01\u001b[0m\n",
            "\u001b[?25hDownloading tzdata-2024.1-py2.py3-none-any.whl (345 kB)\n",
            "\u001b[2K   \u001b[90m━━━━━━━━━━━━━━━━━━━━━━━━━━━━━━━━━━━━━━━━\u001b[0m \u001b[32m345.4/345.4 kB\u001b[0m \u001b[31m1.2 MB/s\u001b[0m eta \u001b[36m0:00:00\u001b[0ma \u001b[36m0:00:01\u001b[0m\n",
            "\u001b[?25hDownloading jax-0.4.26-py3-none-any.whl (1.9 MB)\n",
            "\u001b[2K   \u001b[90m━━━━━━━━━━━━━━━━━━━━━━━━━━━━━━━━━━━━━━━━\u001b[0m \u001b[32m1.9/1.9 MB\u001b[0m \u001b[31m1.1 MB/s\u001b[0m eta \u001b[36m0:00:00\u001b[0m00:01\u001b[0m00:01\u001b[0m\n",
            "\u001b[?25hDownloading jaxlib-0.4.26-cp311-cp311-macosx_10_14_x86_64.whl (83.6 MB)\n",
            "\u001b[2K   \u001b[90m━━━━━━━━━━━━━━━━━━━━━━━━━━━━━━━━━━━━━━━━\u001b[0m \u001b[32m83.6/83.6 MB\u001b[0m \u001b[31m1.1 MB/s\u001b[0m eta \u001b[36m0:00:00\u001b[0m00:01\u001b[0m00:02\u001b[0m0m\n",
            "\u001b[?25hDownloading requests-2.31.0-py3-none-any.whl (62 kB)\n",
            "\u001b[2K   \u001b[90m━━━━━━━━━━━━━━━━━━━━━━━━━━━━━━━━━━━━━━━━\u001b[0m \u001b[32m62.6/62.6 kB\u001b[0m \u001b[31m877.3 kB/s\u001b[0m eta \u001b[36m0:00:00\u001b[0ma \u001b[36m0:00:01\u001b[0m\n",
            "\u001b[?25hDownloading tqdm-4.66.4-py3-none-any.whl (78 kB)\n",
            "\u001b[2K   \u001b[90m━━━━━━━━━━━━━━━━━━━━━━━━━━━━━━━━━━━━━━━━\u001b[0m \u001b[32m78.3/78.3 kB\u001b[0m \u001b[31m1.1 MB/s\u001b[0m eta \u001b[36m0:00:00\u001b[0meta \u001b[36m0:00:01\u001b[0m\n",
            "\u001b[?25hDownloading certifi-2024.2.2-py3-none-any.whl (163 kB)\n",
            "\u001b[2K   \u001b[90m━━━━━━━━━━━━━━━━━━━━━━━━━━━━━━━━━━━━━━━━\u001b[0m \u001b[32m163.8/163.8 kB\u001b[0m \u001b[31m1.1 MB/s\u001b[0m eta \u001b[36m0:00:00\u001b[0m \u001b[36m0:00:01\u001b[0m\n",
            "\u001b[?25hDownloading charset_normalizer-3.3.2-cp311-cp311-macosx_10_9_x86_64.whl (121 kB)\n",
            "\u001b[2K   \u001b[90m━━━━━━━━━━━━━━━━━━━━━━━━━━━━━━━━━━━━━━━\u001b[0m \u001b[32m121.4/121.4 kB\u001b[0m \u001b[31m712.7 kB/s\u001b[0m eta \u001b[36m0:00:00\u001b[0m\u001b[36m0:00:01\u001b[0m\n",
            "\u001b[?25hDownloading idna-3.7-py3-none-any.whl (66 kB)\n",
            "\u001b[2K   \u001b[90m━━━━━━━━━━━━━━━━━━━━━━━━━━━━━━━━━━━━━━━━\u001b[0m \u001b[32m66.8/66.8 kB\u001b[0m \u001b[31m1.4 MB/s\u001b[0m eta \u001b[36m0:00:00\u001b[0ma \u001b[36m0:00:01\u001b[0m\n",
            "\u001b[?25hDownloading ml_dtypes-0.4.0-cp311-cp311-macosx_10_9_universal2.whl (390 kB)\n",
            "\u001b[2K   \u001b[90m━━━━━━━━━━━━━━━━━━━━━━━━━━━━━━━━━━━━━━━\u001b[0m \u001b[32m390.9/390.9 kB\u001b[0m \u001b[31m969.0 kB/s\u001b[0m eta \u001b[36m0:00:00\u001b[0m \u001b[36m0:00:01\u001b[0mm\n",
            "\u001b[?25hDownloading urllib3-2.2.1-py3-none-any.whl (121 kB)\n",
            "\u001b[2K   \u001b[90m━━━━━━━━━━━━━━━━━━━━━━━━━━━━━━━━━━━━━━━━\u001b[0m \u001b[32m121.1/121.1 kB\u001b[0m \u001b[31m1.1 MB/s\u001b[0m eta \u001b[36m0:00:00\u001b[0m \u001b[36m0:00:01\u001b[0m\n",
            "\u001b[?25hDownloading opt_einsum-3.3.0-py3-none-any.whl (65 kB)\n",
            "\u001b[2K   \u001b[90m━━━━━━━━━━━━━━━━━━━━━━━━━━━━━━━━━━━━━━━━\u001b[0m \u001b[32m65.5/65.5 kB\u001b[0m \u001b[31m1.2 MB/s\u001b[0m eta \u001b[36m0:00:00\u001b[0ma \u001b[36m0:00:01\u001b[0m\n",
            "\u001b[?25hBuilding wheels for collected packages: GPopt\n",
            "  Building wheel for GPopt (setup.py) ... \u001b[?25ldone\n",
            "\u001b[?25h  Created wheel for GPopt: filename=GPopt-0.6.0-py2.py3-none-any.whl size=71907 sha256=c511b96e70ea5691c0a4e86296a2f3d2b783c7103fc4ac1fdd526402623c3ec5\n",
            "  Stored in directory: /private/var/folders/cp/q8d6040n3m38d22z3hkk1zc40000gn/T/pip-ephem-wheel-cache-3bj6sxxu/wheels/18/c5/f2/2bcb5749155d04d8e285ee88d9c1f7d49467719147ee803dc9\n",
            "Successfully built GPopt\n",
            "Installing collected packages: pytz, urllib3, tzdata, tqdm, pyparsing, pillow, opt-einsum, ml-dtypes, kiwisolver, idna, fonttools, cycler, contourpy, charset-normalizer, certifi, requests, pandas, matplotlib, jaxlib, jax, nnetsauce, GPopt\n",
            "Successfully installed GPopt-0.6.0 certifi-2024.2.2 charset-normalizer-3.3.2 contourpy-1.2.1 cycler-0.12.1 fonttools-4.51.0 idna-3.7 jax-0.4.26 jaxlib-0.4.26 kiwisolver-1.4.5 matplotlib-3.8.4 ml-dtypes-0.4.0 nnetsauce-0.20.1 opt-einsum-3.3.0 pandas-2.2.2 pillow-10.3.0 pyparsing-3.1.2 pytz-2024.1 requests-2.31.0 tqdm-4.66.4 tzdata-2024.1 urllib3-2.2.1\n"
          ]
        }
      ],
      "source": [
        "!pip install ../.. --upgrade --no-cache-dir"
      ]
    },
    {
      "cell_type": "code",
      "execution_count": 4,
      "metadata": {
        "id": "FV7pttAu8pXP"
      },
      "outputs": [],
      "source": [
        "import BCN as bcn # takes a long time to run, ONLY the first time it's run\n",
        "import GPopt as gp\n",
        "import numpy as np\n",
        "\n",
        "from sklearn.gaussian_process import GaussianProcessRegressor\n",
        "from sklearn.gaussian_process.kernels import Matern\n",
        "from sklearn.datasets import load_iris, load_wine, load_breast_cancer\n",
        "from sklearn.model_selection import train_test_split\n",
        "from sklearn import metrics\n",
        "from time import time"
      ]
    },
    {
      "cell_type": "markdown",
      "metadata": {
        "id": "YniHGO9AAac2"
      },
      "source": [
        "# 2 - cv"
      ]
    },
    {
      "cell_type": "code",
      "execution_count": 5,
      "metadata": {
        "id": "LIGGEBbxCznR"
      },
      "outputs": [],
      "source": [
        "from sklearn.model_selection import cross_val_score"
      ]
    },
    {
      "cell_type": "code",
      "execution_count": 6,
      "metadata": {
        "id": "fIgPu1vBAd7X"
      },
      "outputs": [],
      "source": [
        "def bcn_cv(X_train, y_train,\n",
        "               B = 10, nu = 0.335855,\n",
        "               lam = 10**0.7837525,\n",
        "               r = 1 - 10**(-5.470031),\n",
        "               tol = 10**-7,\n",
        "               col_sample=1,\n",
        "               n_clusters = 3):\n",
        "\n",
        "  estimator  = bcn.BCNClassifier(B = int(B),\n",
        "                                 nu = nu,\n",
        "                                 lam = lam,\n",
        "                                 r = r,\n",
        "                                 tol = tol,\n",
        "                                 col_sample = col_sample,\n",
        "                                 n_clusters = n_clusters,\n",
        "                                 activation=\"tanh\",\n",
        "                                 type_optim=\"nlminb\",\n",
        "                                 show_progress = False)\n",
        "\n",
        "  return -cross_val_score(estimator, X_train, y_train,\n",
        "                          scoring='accuracy',\n",
        "                          cv=5, n_jobs=None,\n",
        "                          verbose=0).mean()\n",
        "\n",
        "def optimize_bcn(X_train, y_train, method=\"queue\"):\n",
        "  # objective function for hyperparams tuning\n",
        "  def crossval_objective(x):\n",
        "    return bcn_cv(X_train=X_train,\n",
        "                  y_train=y_train,\n",
        "                  B = int(x[0]),\n",
        "                  nu = 10**x[1],\n",
        "                  lam = 10**x[2],\n",
        "                  r = 1 - 10**x[3],\n",
        "                  tol = 10**x[4],\n",
        "                  col_sample = np.ceil(x[5]),\n",
        "                  n_clusters = np.ceil(x[6]))\n",
        "  gp_opt = gp.GPOpt(objective_func=crossval_objective,\n",
        "                    lower_bound = np.array([   3,    -6, -10, -10,   -6, 0.8, 1]),\n",
        "                    upper_bound = np.array([ 100,  -0.1,  10,  -1, -0.1,   1, 4]),\n",
        "                    params_names=[\"B\", \"nu\", \"lam\", \"r\", \"tol\", \"col_sample\", \"n_clusters\"],                    \n",
        "                    n_init=10, n_iter=90, seed=3137)\n",
        "  return gp_opt.lazyoptimize(method = method, verbose=2, abs_tol=1e-3, \n",
        "                     type_exec = method,\n",
        "                     estimators = [\"LinearRegression\",\n",
        "                                    \"RidgeCV\",\n",
        "                                    \"LassoCV\",\n",
        "                                    \"ElasticNetCV\", \n",
        "                                    \"KNeighborsRegressor\",\n",
        "                                    \"BaggingRegressor\",\n",
        "                                    \"ExtraTreesRegressor\", \n",
        "                                    \"RandomForestRegressor\", \n",
        "                                    ]\n",
        "                                    )"
      ]
    },
    {
      "cell_type": "code",
      "execution_count": 7,
      "metadata": {
        "id": "dU2gF9rYC_Q_"
      },
      "outputs": [],
      "source": [
        "dataset = load_wine()\n",
        "X = dataset.data\n",
        "y = dataset.target"
      ]
    },
    {
      "cell_type": "code",
      "execution_count": null,
      "metadata": {},
      "outputs": [],
      "source": []
    },
    {
      "cell_type": "code",
      "execution_count": 8,
      "metadata": {},
      "outputs": [
        {
          "name": "stdout",
          "output_type": "stream",
          "text": [
            "\n",
            " adjusting surrogate model # 1 (CustomRegressor(BaggingRegressor))... \n",
            "\n"
          ]
        },
        {
          "ename": "AssertionError",
          "evalue": "method must be in ('bayesian', 'mc')",
          "output_type": "error",
          "traceback": [
            "\u001b[0;31m---------------------------------------------------------------------------\u001b[0m",
            "\u001b[0;31mAssertionError\u001b[0m                            Traceback (most recent call last)",
            "Cell \u001b[0;32mIn[8], line 2\u001b[0m\n\u001b[1;32m      1\u001b[0m \u001b[38;5;66;03m# hyperparams tuning\u001b[39;00m\n\u001b[0;32m----> 2\u001b[0m res_opt \u001b[38;5;241m=\u001b[39m \u001b[43moptimize_bcn\u001b[49m\u001b[43m(\u001b[49m\u001b[43mX\u001b[49m\u001b[43m,\u001b[49m\u001b[43m \u001b[49m\u001b[43my\u001b[49m\u001b[43m,\u001b[49m\u001b[43m \u001b[49m\u001b[43mmethod\u001b[49m\u001b[38;5;241;43m=\u001b[39;49m\u001b[38;5;124;43m\"\u001b[39;49m\u001b[38;5;124;43mqueue\u001b[39;49m\u001b[38;5;124;43m\"\u001b[39;49m\u001b[43m)\u001b[49m\n\u001b[1;32m      3\u001b[0m \u001b[38;5;28mprint\u001b[39m(res_opt)\n\u001b[1;32m      4\u001b[0m \u001b[38;5;28mprint\u001b[39m(res_opt\u001b[38;5;241m.\u001b[39mbest_score)\n",
            "Cell \u001b[0;32mIn[6], line 42\u001b[0m, in \u001b[0;36moptimize_bcn\u001b[0;34m(X_train, y_train, method)\u001b[0m\n\u001b[1;32m     28\u001b[0m   \u001b[38;5;28;01mreturn\u001b[39;00m bcn_cv(X_train\u001b[38;5;241m=\u001b[39mX_train,\n\u001b[1;32m     29\u001b[0m                 y_train\u001b[38;5;241m=\u001b[39my_train,\n\u001b[1;32m     30\u001b[0m                 B \u001b[38;5;241m=\u001b[39m \u001b[38;5;28mint\u001b[39m(x[\u001b[38;5;241m0\u001b[39m]),\n\u001b[0;32m   (...)\u001b[0m\n\u001b[1;32m     35\u001b[0m                 col_sample \u001b[38;5;241m=\u001b[39m np\u001b[38;5;241m.\u001b[39mceil(x[\u001b[38;5;241m5\u001b[39m]),\n\u001b[1;32m     36\u001b[0m                 n_clusters \u001b[38;5;241m=\u001b[39m np\u001b[38;5;241m.\u001b[39mceil(x[\u001b[38;5;241m6\u001b[39m]))\n\u001b[1;32m     37\u001b[0m gp_opt \u001b[38;5;241m=\u001b[39m gp\u001b[38;5;241m.\u001b[39mGPOpt(objective_func\u001b[38;5;241m=\u001b[39mcrossval_objective,\n\u001b[1;32m     38\u001b[0m                   lower_bound \u001b[38;5;241m=\u001b[39m np\u001b[38;5;241m.\u001b[39marray([   \u001b[38;5;241m3\u001b[39m,    \u001b[38;5;241m-\u001b[39m\u001b[38;5;241m6\u001b[39m, \u001b[38;5;241m-\u001b[39m\u001b[38;5;241m10\u001b[39m, \u001b[38;5;241m-\u001b[39m\u001b[38;5;241m10\u001b[39m,   \u001b[38;5;241m-\u001b[39m\u001b[38;5;241m6\u001b[39m, \u001b[38;5;241m0.8\u001b[39m, \u001b[38;5;241m1\u001b[39m]),\n\u001b[1;32m     39\u001b[0m                   upper_bound \u001b[38;5;241m=\u001b[39m np\u001b[38;5;241m.\u001b[39marray([ \u001b[38;5;241m100\u001b[39m,  \u001b[38;5;241m-\u001b[39m\u001b[38;5;241m0.1\u001b[39m,  \u001b[38;5;241m10\u001b[39m,  \u001b[38;5;241m-\u001b[39m\u001b[38;5;241m1\u001b[39m, \u001b[38;5;241m-\u001b[39m\u001b[38;5;241m0.1\u001b[39m,   \u001b[38;5;241m1\u001b[39m, \u001b[38;5;241m4\u001b[39m]),\n\u001b[1;32m     40\u001b[0m                   params_names\u001b[38;5;241m=\u001b[39m[\u001b[38;5;124m\"\u001b[39m\u001b[38;5;124mB\u001b[39m\u001b[38;5;124m\"\u001b[39m, \u001b[38;5;124m\"\u001b[39m\u001b[38;5;124mnu\u001b[39m\u001b[38;5;124m\"\u001b[39m, \u001b[38;5;124m\"\u001b[39m\u001b[38;5;124mlam\u001b[39m\u001b[38;5;124m\"\u001b[39m, \u001b[38;5;124m\"\u001b[39m\u001b[38;5;124mr\u001b[39m\u001b[38;5;124m\"\u001b[39m, \u001b[38;5;124m\"\u001b[39m\u001b[38;5;124mtol\u001b[39m\u001b[38;5;124m\"\u001b[39m, \u001b[38;5;124m\"\u001b[39m\u001b[38;5;124mcol_sample\u001b[39m\u001b[38;5;124m\"\u001b[39m, \u001b[38;5;124m\"\u001b[39m\u001b[38;5;124mn_clusters\u001b[39m\u001b[38;5;124m\"\u001b[39m],                    \n\u001b[1;32m     41\u001b[0m                   n_init\u001b[38;5;241m=\u001b[39m\u001b[38;5;241m10\u001b[39m, n_iter\u001b[38;5;241m=\u001b[39m\u001b[38;5;241m90\u001b[39m, seed\u001b[38;5;241m=\u001b[39m\u001b[38;5;241m3137\u001b[39m)\n\u001b[0;32m---> 42\u001b[0m \u001b[38;5;28;01mreturn\u001b[39;00m \u001b[43mgp_opt\u001b[49m\u001b[38;5;241;43m.\u001b[39;49m\u001b[43mlazyoptimize\u001b[49m\u001b[43m(\u001b[49m\u001b[43mmethod\u001b[49m\u001b[43m \u001b[49m\u001b[38;5;241;43m=\u001b[39;49m\u001b[43m \u001b[49m\u001b[43mmethod\u001b[49m\u001b[43m,\u001b[49m\u001b[43m \u001b[49m\u001b[43mverbose\u001b[49m\u001b[38;5;241;43m=\u001b[39;49m\u001b[38;5;241;43m2\u001b[39;49m\u001b[43m,\u001b[49m\u001b[43m \u001b[49m\u001b[43mabs_tol\u001b[49m\u001b[38;5;241;43m=\u001b[39;49m\u001b[38;5;241;43m1e-3\u001b[39;49m\u001b[43m,\u001b[49m\u001b[43m \u001b[49m\n\u001b[1;32m     43\u001b[0m \u001b[43m                   \u001b[49m\u001b[43mtype_exec\u001b[49m\u001b[43m \u001b[49m\u001b[38;5;241;43m=\u001b[39;49m\u001b[43m \u001b[49m\u001b[43mmethod\u001b[49m\u001b[43m,\u001b[49m\n\u001b[1;32m     44\u001b[0m \u001b[43m                   \u001b[49m\u001b[43mestimators\u001b[49m\u001b[43m \u001b[49m\u001b[38;5;241;43m=\u001b[39;49m\u001b[43m \u001b[49m\u001b[43m[\u001b[49m\u001b[38;5;124;43m\"\u001b[39;49m\u001b[38;5;124;43mLinearRegression\u001b[39;49m\u001b[38;5;124;43m\"\u001b[39;49m\u001b[43m,\u001b[49m\n\u001b[1;32m     45\u001b[0m \u001b[43m                                  \u001b[49m\u001b[38;5;124;43m\"\u001b[39;49m\u001b[38;5;124;43mRidgeCV\u001b[39;49m\u001b[38;5;124;43m\"\u001b[39;49m\u001b[43m,\u001b[49m\n\u001b[1;32m     46\u001b[0m \u001b[43m                                  \u001b[49m\u001b[38;5;124;43m\"\u001b[39;49m\u001b[38;5;124;43mLassoCV\u001b[39;49m\u001b[38;5;124;43m\"\u001b[39;49m\u001b[43m,\u001b[49m\n\u001b[1;32m     47\u001b[0m \u001b[43m                                  \u001b[49m\u001b[38;5;124;43m\"\u001b[39;49m\u001b[38;5;124;43mElasticNetCV\u001b[39;49m\u001b[38;5;124;43m\"\u001b[39;49m\u001b[43m,\u001b[49m\u001b[43m \u001b[49m\n\u001b[1;32m     48\u001b[0m \u001b[43m                                  \u001b[49m\u001b[38;5;124;43m\"\u001b[39;49m\u001b[38;5;124;43mKNeighborsRegressor\u001b[39;49m\u001b[38;5;124;43m\"\u001b[39;49m\u001b[43m,\u001b[49m\n\u001b[1;32m     49\u001b[0m \u001b[43m                                  \u001b[49m\u001b[38;5;124;43m\"\u001b[39;49m\u001b[38;5;124;43mBaggingRegressor\u001b[39;49m\u001b[38;5;124;43m\"\u001b[39;49m\u001b[43m,\u001b[49m\n\u001b[1;32m     50\u001b[0m \u001b[43m                                  \u001b[49m\u001b[38;5;124;43m\"\u001b[39;49m\u001b[38;5;124;43mExtraTreesRegressor\u001b[39;49m\u001b[38;5;124;43m\"\u001b[39;49m\u001b[43m,\u001b[49m\u001b[43m \u001b[49m\n\u001b[1;32m     51\u001b[0m \u001b[43m                                  \u001b[49m\u001b[38;5;124;43m\"\u001b[39;49m\u001b[38;5;124;43mRandomForestRegressor\u001b[39;49m\u001b[38;5;124;43m\"\u001b[39;49m\u001b[43m,\u001b[49m\u001b[43m \u001b[49m\n\u001b[1;32m     52\u001b[0m \u001b[43m                                  \u001b[49m\u001b[43m]\u001b[49m\n\u001b[1;32m     53\u001b[0m \u001b[43m                                  \u001b[49m\u001b[43m)\u001b[49m\n",
            "File \u001b[0;32m~/Documents/Python_Packages/GPopt/venv/lib/python3.11/site-packages/GPopt/GPOpt/GPOpt.py:899\u001b[0m, in \u001b[0;36mGPOpt.lazyoptimize\u001b[0;34m(self, verbose, abs_tol, min_budget, func_args, method, estimators, type_exec)\u001b[0m\n\u001b[1;32m    884\u001b[0m     \u001b[38;5;28mprint\u001b[39m(\u001b[38;5;124mf\u001b[39m\u001b[38;5;124m\"\u001b[39m\u001b[38;5;130;01m\\n\u001b[39;00m\u001b[38;5;124m adjusting surrogate model # \u001b[39m\u001b[38;5;132;01m{\u001b[39;00m\u001b[38;5;241m1\u001b[39m\u001b[38;5;132;01m}\u001b[39;00m\u001b[38;5;124m (\u001b[39m\u001b[38;5;132;01m{\u001b[39;00m\u001b[38;5;28mself\u001b[39m\u001b[38;5;241m.\u001b[39mregressors[\u001b[38;5;241m0\u001b[39m][\u001b[38;5;241m0\u001b[39m]\u001b[38;5;132;01m}\u001b[39;00m\u001b[38;5;124m)... \u001b[39m\u001b[38;5;130;01m\\n\u001b[39;00m\u001b[38;5;124m\"\u001b[39m)\n\u001b[1;32m    886\u001b[0m gp_opt_obj_prev \u001b[38;5;241m=\u001b[39m GPOpt(objective_func\u001b[38;5;241m=\u001b[39m\u001b[38;5;28mself\u001b[39m\u001b[38;5;241m.\u001b[39mobjective_func, \n\u001b[1;32m    887\u001b[0m                 lower_bound \u001b[38;5;241m=\u001b[39m \u001b[38;5;28mself\u001b[39m\u001b[38;5;241m.\u001b[39mlower_bound, \n\u001b[1;32m    888\u001b[0m                 upper_bound \u001b[38;5;241m=\u001b[39m \u001b[38;5;28mself\u001b[39m\u001b[38;5;241m.\u001b[39mupper_bound,                 \n\u001b[0;32m   (...)\u001b[0m\n\u001b[1;32m    896\u001b[0m                 min_value\u001b[38;5;241m=\u001b[39m\u001b[38;5;28mself\u001b[39m\u001b[38;5;241m.\u001b[39mmin_value,\n\u001b[1;32m    897\u001b[0m                 surrogate_obj\u001b[38;5;241m=\u001b[39mcopy\u001b[38;5;241m.\u001b[39mdeepcopy(\u001b[38;5;28mself\u001b[39m\u001b[38;5;241m.\u001b[39mregressors[\u001b[38;5;241m0\u001b[39m][\u001b[38;5;241m1\u001b[39m]))  \n\u001b[0;32m--> 899\u001b[0m \u001b[43mgp_opt_obj_prev\u001b[49m\u001b[38;5;241;43m.\u001b[39;49m\u001b[43moptimize\u001b[49m\u001b[43m(\u001b[49m\u001b[43mverbose\u001b[49m\u001b[38;5;241;43m=\u001b[39;49m\u001b[43mverbose\u001b[49m\u001b[43m,\u001b[49m\u001b[43m                                \u001b[49m\n\u001b[1;32m    900\u001b[0m \u001b[43m                        \u001b[49m\u001b[43mabs_tol\u001b[49m\u001b[38;5;241;43m=\u001b[39;49m\u001b[43mabs_tol\u001b[49m\u001b[43m,\u001b[49m\u001b[43m  \u001b[49m\u001b[38;5;66;43;03m# suggested 1e-4, for n_iter = 200\u001b[39;49;00m\n\u001b[1;32m    901\u001b[0m \u001b[43m                        \u001b[49m\u001b[43mmin_budget\u001b[49m\u001b[38;5;241;43m=\u001b[39;49m\u001b[43mmin_budget\u001b[49m\u001b[43m,\u001b[49m\u001b[43m  \u001b[49m\u001b[38;5;66;43;03m# minimum budget for early stopping\u001b[39;49;00m\n\u001b[1;32m    902\u001b[0m \u001b[43m                        \u001b[49m\u001b[43mfunc_args\u001b[49m\u001b[38;5;241;43m=\u001b[39;49m\u001b[43mfunc_args\u001b[49m\u001b[43m,\u001b[49m\n\u001b[1;32m    903\u001b[0m \u001b[43m                        \u001b[49m\u001b[43mmethod\u001b[49m\u001b[38;5;241;43m=\u001b[39;49m\u001b[43mmethod\u001b[49m\u001b[43m,\u001b[49m\n\u001b[1;32m    904\u001b[0m \u001b[43m                        \u001b[49m\u001b[43m)\u001b[49m\n\u001b[1;32m    906\u001b[0m score_next_param \u001b[38;5;241m=\u001b[39m gp_opt_obj_prev\u001b[38;5;241m.\u001b[39my_min        \n\u001b[1;32m    908\u001b[0m \u001b[38;5;28;01mif\u001b[39;00m \u001b[38;5;28mself\u001b[39m\u001b[38;5;241m.\u001b[39mn_jobs \u001b[38;5;129;01mis\u001b[39;00m \u001b[38;5;28;01mNone\u001b[39;00m: \u001b[38;5;66;03m# sequential optimization\u001b[39;00m\n",
            "File \u001b[0;32m~/Documents/Python_Packages/GPopt/venv/lib/python3.11/site-packages/GPopt/GPOpt/GPOpt.py:435\u001b[0m, in \u001b[0;36mGPOpt.optimize\u001b[0;34m(self, verbose, n_more_iter, abs_tol, min_budget, func_args, method)\u001b[0m\n\u001b[1;32m    397\u001b[0m \u001b[38;5;28;01mdef\u001b[39;00m \u001b[38;5;21moptimize\u001b[39m(\n\u001b[1;32m    398\u001b[0m     \u001b[38;5;28mself\u001b[39m,\n\u001b[1;32m    399\u001b[0m     verbose\u001b[38;5;241m=\u001b[39m\u001b[38;5;241m1\u001b[39m,\n\u001b[0;32m   (...)\u001b[0m\n\u001b[1;32m    404\u001b[0m     method\u001b[38;5;241m=\u001b[39m\u001b[38;5;124m\"\u001b[39m\u001b[38;5;124mbayesian\u001b[39m\u001b[38;5;124m\"\u001b[39m,\n\u001b[1;32m    405\u001b[0m ):\n\u001b[1;32m    406\u001b[0m \u001b[38;5;250m    \u001b[39m\u001b[38;5;124;03m\"\"\"Launch optimization loop.\u001b[39;00m\n\u001b[1;32m    407\u001b[0m \n\u001b[1;32m    408\u001b[0m \u001b[38;5;124;03m    # Arguments:\u001b[39;00m\n\u001b[0;32m   (...)\u001b[0m\n\u001b[1;32m    432\u001b[0m \n\u001b[1;32m    433\u001b[0m \u001b[38;5;124;03m    \"\"\"\u001b[39;00m\n\u001b[0;32m--> 435\u001b[0m     \u001b[38;5;28;01massert\u001b[39;00m method \u001b[38;5;129;01min\u001b[39;00m (\n\u001b[1;32m    436\u001b[0m         \u001b[38;5;124m\"\u001b[39m\u001b[38;5;124mbayesian\u001b[39m\u001b[38;5;124m\"\u001b[39m,\n\u001b[1;32m    437\u001b[0m         \u001b[38;5;124m\"\u001b[39m\u001b[38;5;124mmc\u001b[39m\u001b[38;5;124m\"\u001b[39m,\n\u001b[1;32m    438\u001b[0m     ), \u001b[38;5;124m\"\u001b[39m\u001b[38;5;124mmethod must be in (\u001b[39m\u001b[38;5;124m'\u001b[39m\u001b[38;5;124mbayesian\u001b[39m\u001b[38;5;124m'\u001b[39m\u001b[38;5;124m, \u001b[39m\u001b[38;5;124m'\u001b[39m\u001b[38;5;124mmc\u001b[39m\u001b[38;5;124m'\u001b[39m\u001b[38;5;124m)\u001b[39m\u001b[38;5;124m\"\u001b[39m\n\u001b[1;32m    439\u001b[0m     \u001b[38;5;28mself\u001b[39m\u001b[38;5;241m.\u001b[39mmethod \u001b[38;5;241m=\u001b[39m method\n\u001b[1;32m    441\u001b[0m     \u001b[38;5;66;03m# verbose = 0: nothing is printed\u001b[39;00m\n\u001b[1;32m    442\u001b[0m     \u001b[38;5;66;03m# verbose = 1: a progress bar is printed (longer than 0)\u001b[39;00m\n\u001b[1;32m    443\u001b[0m     \u001b[38;5;66;03m# verbose = 2: information about each iteration is printed (longer than 1)\u001b[39;00m\n",
            "\u001b[0;31mAssertionError\u001b[0m: method must be in ('bayesian', 'mc')"
          ]
        }
      ],
      "source": [
        "# hyperparams tuning\n",
        "res_opt = optimize_bcn(X, y, method=\"queue\")\n",
        "print(res_opt)\n",
        "print(res_opt.best_score)"
      ]
    },
    {
      "cell_type": "code",
      "execution_count": null,
      "metadata": {
        "colab": {
          "base_uri": "https://localhost:8080/"
        },
        "id": "7xw2ii1auV6N",
        "outputId": "050fce15-672d-466d-eb51-595b24d0bfad"
      },
      "outputs": [
        {
          "name": "stdout",
          "output_type": "stream",
          "text": [
            "-0.9857142857142858\n"
          ]
        }
      ],
      "source": [
        "# hyperparams tuning\n",
        "res_opt = optimize_bcn(X, y, method=\"independent\")\n",
        "print(res_opt)\n",
        "print(res_opt.best_score)"
      ]
    }
  ],
  "metadata": {
    "colab": {
      "provenance": []
    },
    "kernelspec": {
      "display_name": "Python 3",
      "name": "python3"
    },
    "language_info": {
      "codemirror_mode": {
        "name": "ipython",
        "version": 3
      },
      "file_extension": ".py",
      "mimetype": "text/x-python",
      "name": "python",
      "nbconvert_exporter": "python",
      "pygments_lexer": "ipython3",
      "version": "3.11.8"
    }
  },
  "nbformat": 4,
  "nbformat_minor": 0
}
