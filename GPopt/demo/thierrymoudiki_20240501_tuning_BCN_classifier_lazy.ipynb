{
  "cells": [
    {
      "cell_type": "markdown",
      "metadata": {
        "id": "ver1MWFiAIH1"
      },
      "source": [
        "# 1 - Install"
      ]
    },
    {
      "cell_type": "code",
      "execution_count": 1,
      "metadata": {
        "id": "cxJzB_Pwry-O"
      },
      "outputs": [
        {
          "name": "stdout",
          "output_type": "stream",
          "text": [
            "\u001b[33mWARNING: Skipping BCN as it is not installed.\u001b[0m\u001b[33m\n",
            "\u001b[0mFound existing installation: GPopt 0.6.0\n",
            "Uninstalling GPopt-0.6.0:\n",
            "  Successfully uninstalled GPopt-0.6.0\n"
          ]
        }
      ],
      "source": [
        "!pip uninstall -y BCN GPopt"
      ]
    },
    {
      "cell_type": "code",
      "execution_count": 2,
      "metadata": {
        "id": "L7dr5u5k8hW9"
      },
      "outputs": [
        {
          "name": "stdout",
          "output_type": "stream",
          "text": [
            "Collecting BCN\n",
            "  Downloading BCN-0.7.1-py2.py3-none-any.whl.metadata (873 bytes)\n",
            "Requirement already satisfied: joblib in /Users/t/Documents/Python_Packages/GPopt/venv/lib/python3.11/site-packages (from BCN) (1.4.0)\n",
            "Requirement already satisfied: numpy in /Users/t/Documents/Python_Packages/GPopt/venv/lib/python3.11/site-packages (from BCN) (1.26.4)\n",
            "Collecting rpy2 (from BCN)\n",
            "  Downloading rpy2-3.5.16-cp311-cp311-macosx_10_9_universal2.whl.metadata (4.5 kB)\n",
            "Requirement already satisfied: scikit-learn in /Users/t/Documents/Python_Packages/GPopt/venv/lib/python3.11/site-packages (from BCN) (1.4.2)\n",
            "Collecting cffi>=1.15.1 (from rpy2->BCN)\n",
            "  Downloading cffi-1.16.0-cp311-cp311-macosx_10_9_x86_64.whl.metadata (1.5 kB)\n",
            "Collecting jinja2 (from rpy2->BCN)\n",
            "  Downloading Jinja2-3.1.3-py3-none-any.whl.metadata (3.3 kB)\n",
            "Collecting tzlocal (from rpy2->BCN)\n",
            "  Downloading tzlocal-5.2-py3-none-any.whl.metadata (7.8 kB)\n",
            "Requirement already satisfied: scipy>=1.6.0 in /Users/t/Documents/Python_Packages/GPopt/venv/lib/python3.11/site-packages (from scikit-learn->BCN) (1.13.0)\n",
            "Requirement already satisfied: threadpoolctl>=2.0.0 in /Users/t/Documents/Python_Packages/GPopt/venv/lib/python3.11/site-packages (from scikit-learn->BCN) (3.5.0)\n",
            "Collecting pycparser (from cffi>=1.15.1->rpy2->BCN)\n",
            "  Downloading pycparser-2.22-py3-none-any.whl.metadata (943 bytes)\n",
            "Collecting MarkupSafe>=2.0 (from jinja2->rpy2->BCN)\n",
            "  Downloading MarkupSafe-2.1.5-cp311-cp311-macosx_10_9_x86_64.whl.metadata (3.0 kB)\n",
            "Downloading BCN-0.7.1-py2.py3-none-any.whl (7.6 kB)\n",
            "Downloading rpy2-3.5.16-cp311-cp311-macosx_10_9_universal2.whl (299 kB)\n",
            "\u001b[2K   \u001b[90m━━━━━━━━━━━━━━━━━━━━━━━━━━━━━━━━━━━━━━━━\u001b[0m \u001b[32m299.9/299.9 kB\u001b[0m \u001b[31m13.8 MB/s\u001b[0m eta \u001b[36m0:00:00\u001b[0m\n",
            "\u001b[?25hDownloading cffi-1.16.0-cp311-cp311-macosx_10_9_x86_64.whl (182 kB)\n",
            "\u001b[2K   \u001b[90m━━━━━━━━━━━━━━━━━━━━━━━━━━━━━━━━━━━━━━━━\u001b[0m \u001b[32m182.4/182.4 kB\u001b[0m \u001b[31m32.4 MB/s\u001b[0m eta \u001b[36m0:00:00\u001b[0m\n",
            "\u001b[?25hDownloading Jinja2-3.1.3-py3-none-any.whl (133 kB)\n",
            "\u001b[2K   \u001b[90m━━━━━━━━━━━━━━━━━━━━━━━━━━━━━━━━━━━━━━━━\u001b[0m \u001b[32m133.2/133.2 kB\u001b[0m \u001b[31m15.9 MB/s\u001b[0m eta \u001b[36m0:00:00\u001b[0m\n",
            "\u001b[?25hDownloading tzlocal-5.2-py3-none-any.whl (17 kB)\n",
            "Downloading MarkupSafe-2.1.5-cp311-cp311-macosx_10_9_x86_64.whl (14 kB)\n",
            "Downloading pycparser-2.22-py3-none-any.whl (117 kB)\n",
            "\u001b[2K   \u001b[90m━━━━━━━━━━━━━━━━━━━━━━━━━━━━━━━━━━━━━━━━\u001b[0m \u001b[32m117.6/117.6 kB\u001b[0m \u001b[31m23.0 MB/s\u001b[0m eta \u001b[36m0:00:00\u001b[0m\n",
            "\u001b[?25hInstalling collected packages: tzlocal, pycparser, MarkupSafe, jinja2, cffi, rpy2, BCN\n",
            "Successfully installed BCN-0.7.1 MarkupSafe-2.1.5 cffi-1.16.0 jinja2-3.1.3 pycparser-2.22 rpy2-3.5.16 tzlocal-5.2\n"
          ]
        }
      ],
      "source": [
        "!pip install BCN --upgrade --no-cache-dir"
      ]
    },
    {
      "cell_type": "code",
      "execution_count": 3,
      "metadata": {
        "id": "IBA5fko_BA4V"
      },
      "outputs": [
        {
          "name": "stdout",
          "output_type": "stream",
          "text": [
            "Processing /Users/t/Documents/Python_Packages/GPopt\n",
            "  Preparing metadata (setup.py) ... \u001b[?25ldone\n",
            "\u001b[?25hRequirement already satisfied: joblib in /Users/t/Documents/Python_Packages/GPopt/venv/lib/python3.11/site-packages (from GPopt==0.6.0) (1.4.0)\n",
            "Requirement already satisfied: matplotlib in /Users/t/Documents/Python_Packages/GPopt/venv/lib/python3.11/site-packages (from GPopt==0.6.0) (3.8.4)\n",
            "Requirement already satisfied: nnetsauce in /Users/t/Documents/Python_Packages/GPopt/venv/lib/python3.11/site-packages (from GPopt==0.6.0) (0.20.0)\n",
            "Requirement already satisfied: numpy in /Users/t/Documents/Python_Packages/GPopt/venv/lib/python3.11/site-packages (from GPopt==0.6.0) (1.26.4)\n",
            "Requirement already satisfied: pandas in /Users/t/Documents/Python_Packages/GPopt/venv/lib/python3.11/site-packages (from GPopt==0.6.0) (2.2.2)\n",
            "Requirement already satisfied: scipy in /Users/t/Documents/Python_Packages/GPopt/venv/lib/python3.11/site-packages (from GPopt==0.6.0) (1.13.0)\n",
            "Requirement already satisfied: scikit-learn in /Users/t/Documents/Python_Packages/GPopt/venv/lib/python3.11/site-packages (from GPopt==0.6.0) (1.4.2)\n",
            "Requirement already satisfied: threadpoolctl in /Users/t/Documents/Python_Packages/GPopt/venv/lib/python3.11/site-packages (from GPopt==0.6.0) (3.5.0)\n",
            "Requirement already satisfied: contourpy>=1.0.1 in /Users/t/Documents/Python_Packages/GPopt/venv/lib/python3.11/site-packages (from matplotlib->GPopt==0.6.0) (1.2.1)\n",
            "Requirement already satisfied: cycler>=0.10 in /Users/t/Documents/Python_Packages/GPopt/venv/lib/python3.11/site-packages (from matplotlib->GPopt==0.6.0) (0.12.1)\n",
            "Requirement already satisfied: fonttools>=4.22.0 in /Users/t/Documents/Python_Packages/GPopt/venv/lib/python3.11/site-packages (from matplotlib->GPopt==0.6.0) (4.51.0)\n",
            "Requirement already satisfied: kiwisolver>=1.3.1 in /Users/t/Documents/Python_Packages/GPopt/venv/lib/python3.11/site-packages (from matplotlib->GPopt==0.6.0) (1.4.5)\n",
            "Requirement already satisfied: packaging>=20.0 in /Users/t/Documents/Python_Packages/GPopt/venv/lib/python3.11/site-packages (from matplotlib->GPopt==0.6.0) (24.0)\n",
            "Requirement already satisfied: pillow>=8 in /Users/t/Documents/Python_Packages/GPopt/venv/lib/python3.11/site-packages (from matplotlib->GPopt==0.6.0) (10.3.0)\n",
            "Requirement already satisfied: pyparsing>=2.3.1 in /Users/t/Documents/Python_Packages/GPopt/venv/lib/python3.11/site-packages (from matplotlib->GPopt==0.6.0) (3.1.2)\n",
            "Requirement already satisfied: python-dateutil>=2.7 in /Users/t/Documents/Python_Packages/GPopt/venv/lib/python3.11/site-packages (from matplotlib->GPopt==0.6.0) (2.9.0.post0)\n",
            "Requirement already satisfied: requests in /Users/t/Documents/Python_Packages/GPopt/venv/lib/python3.11/site-packages (from nnetsauce->GPopt==0.6.0) (2.31.0)\n",
            "Requirement already satisfied: tqdm in /Users/t/Documents/Python_Packages/GPopt/venv/lib/python3.11/site-packages (from nnetsauce->GPopt==0.6.0) (4.66.2)\n",
            "Requirement already satisfied: jax in /Users/t/Documents/Python_Packages/GPopt/venv/lib/python3.11/site-packages (from nnetsauce->GPopt==0.6.0) (0.4.26)\n",
            "Requirement already satisfied: jaxlib in /Users/t/Documents/Python_Packages/GPopt/venv/lib/python3.11/site-packages (from nnetsauce->GPopt==0.6.0) (0.4.26)\n",
            "Requirement already satisfied: pytz>=2020.1 in /Users/t/Documents/Python_Packages/GPopt/venv/lib/python3.11/site-packages (from pandas->GPopt==0.6.0) (2024.1)\n",
            "Requirement already satisfied: tzdata>=2022.7 in /Users/t/Documents/Python_Packages/GPopt/venv/lib/python3.11/site-packages (from pandas->GPopt==0.6.0) (2024.1)\n",
            "Requirement already satisfied: six>=1.5 in /Users/t/Documents/Python_Packages/GPopt/venv/lib/python3.11/site-packages (from python-dateutil>=2.7->matplotlib->GPopt==0.6.0) (1.16.0)\n",
            "Requirement already satisfied: ml-dtypes>=0.2.0 in /Users/t/Documents/Python_Packages/GPopt/venv/lib/python3.11/site-packages (from jax->nnetsauce->GPopt==0.6.0) (0.4.0)\n",
            "Requirement already satisfied: opt-einsum in /Users/t/Documents/Python_Packages/GPopt/venv/lib/python3.11/site-packages (from jax->nnetsauce->GPopt==0.6.0) (3.3.0)\n",
            "Requirement already satisfied: charset-normalizer<4,>=2 in /Users/t/Documents/Python_Packages/GPopt/venv/lib/python3.11/site-packages (from requests->nnetsauce->GPopt==0.6.0) (3.3.2)\n",
            "Requirement already satisfied: idna<4,>=2.5 in /Users/t/Documents/Python_Packages/GPopt/venv/lib/python3.11/site-packages (from requests->nnetsauce->GPopt==0.6.0) (3.7)\n",
            "Requirement already satisfied: urllib3<3,>=1.21.1 in /Users/t/Documents/Python_Packages/GPopt/venv/lib/python3.11/site-packages (from requests->nnetsauce->GPopt==0.6.0) (2.2.1)\n",
            "Requirement already satisfied: certifi>=2017.4.17 in /Users/t/Documents/Python_Packages/GPopt/venv/lib/python3.11/site-packages (from requests->nnetsauce->GPopt==0.6.0) (2024.2.2)\n",
            "Building wheels for collected packages: GPopt\n",
            "  Building wheel for GPopt (setup.py) ... \u001b[?25ldone\n",
            "\u001b[?25h  Created wheel for GPopt: filename=GPopt-0.6.0-py2.py3-none-any.whl size=71002 sha256=f9a142f30b504d434bf1068f678b3f155e40250a0716d0cd565f1782d56d2a5d\n",
            "  Stored in directory: /private/var/folders/cp/q8d6040n3m38d22z3hkk1zc40000gn/T/pip-ephem-wheel-cache-b7e7jubc/wheels/18/c5/f2/2bcb5749155d04d8e285ee88d9c1f7d49467719147ee803dc9\n",
            "Successfully built GPopt\n",
            "Installing collected packages: GPopt\n",
            "Successfully installed GPopt-0.6.0\n"
          ]
        }
      ],
      "source": [
        "!pip install ../.. --upgrade --no-cache-dir"
      ]
    },
    {
      "cell_type": "code",
      "execution_count": 4,
      "metadata": {
        "id": "FV7pttAu8pXP"
      },
      "outputs": [],
      "source": [
        "import BCN as bcn # takes a long time to run, ONLY the first time it's run\n",
        "import GPopt as gp\n",
        "import numpy as np\n",
        "\n",
        "from sklearn.gaussian_process import GaussianProcessRegressor\n",
        "from sklearn.gaussian_process.kernels import Matern\n",
        "from sklearn.datasets import load_iris, load_wine, load_breast_cancer\n",
        "from sklearn.model_selection import train_test_split\n",
        "from sklearn import metrics\n",
        "from time import time"
      ]
    },
    {
      "cell_type": "markdown",
      "metadata": {
        "id": "YniHGO9AAac2"
      },
      "source": [
        "# 2 - cv"
      ]
    },
    {
      "cell_type": "code",
      "execution_count": 5,
      "metadata": {
        "id": "LIGGEBbxCznR"
      },
      "outputs": [],
      "source": [
        "from sklearn.model_selection import cross_val_score"
      ]
    },
    {
      "cell_type": "code",
      "execution_count": 8,
      "metadata": {
        "id": "fIgPu1vBAd7X"
      },
      "outputs": [],
      "source": [
        "def bcn_cv(X_train, y_train,\n",
        "               B = 10, nu = 0.335855,\n",
        "               lam = 10**0.7837525,\n",
        "               r = 1 - 10**(-5.470031),\n",
        "               tol = 10**-7,\n",
        "               col_sample=1,\n",
        "               n_clusters = 3):\n",
        "\n",
        "  estimator  = bcn.BCNClassifier(B = int(B),\n",
        "                                 nu = nu,\n",
        "                                 lam = lam,\n",
        "                                 r = r,\n",
        "                                 tol = tol,\n",
        "                                 col_sample = col_sample,\n",
        "                                 n_clusters = n_clusters,\n",
        "                                 activation=\"tanh\",\n",
        "                                 type_optim=\"nlminb\",\n",
        "                                 show_progress = False)\n",
        "\n",
        "  return -cross_val_score(estimator, X_train, y_train,\n",
        "                          scoring='accuracy',\n",
        "                          cv=5, n_jobs=None,\n",
        "                          verbose=0).mean()\n",
        "\n",
        "def optimize_bcn(X_train, y_train):\n",
        "  # objective function for hyperparams tuning\n",
        "  def crossval_objective(x):\n",
        "    return bcn_cv(X_train=X_train,\n",
        "                  y_train=y_train,\n",
        "                  B = int(x[0]),\n",
        "                  nu = 10**x[1],\n",
        "                  lam = 10**x[2],\n",
        "                  r = 1 - 10**x[3],\n",
        "                  tol = 10**x[4],\n",
        "                  col_sample = np.ceil(x[5]),\n",
        "                  n_clusters = np.ceil(x[6]))\n",
        "  gp_opt = gp.GPOpt(objective_func=crossval_objective,\n",
        "                    lower_bound = np.array([   3,    -6, -10, -10,   -6, 0.8, 1]),\n",
        "                    upper_bound = np.array([ 100,  -0.1,  10,  -1, -0.1,   1, 4]),\n",
        "                    params_names=[\"B\", \"nu\", \"lam\", \"r\", \"tol\", \"col_sample\", \"n_clusters\"],                    \n",
        "                    n_init=10, n_iter=190, seed=3137)\n",
        "  return gp_opt.lazyoptimize(verbose=2, abs_tol=1e-3)"
      ]
    },
    {
      "cell_type": "code",
      "execution_count": 9,
      "metadata": {
        "id": "dU2gF9rYC_Q_"
      },
      "outputs": [
        {
          "name": "stdout",
          "output_type": "stream",
          "text": [
            "\n",
            " Creating initial design... \n",
            "\n",
            "point: [51.5  -3.05  0.   -5.5  -3.05  0.9   2.5 ]; score: -0.4083743842364532\n",
            "point: [75.75  -4.525  5.    -7.75  -1.575  0.85   3.25 ]; score: -0.4083743842364532\n",
            "point: [27.25  -1.575 -5.    -3.25  -4.525  0.95   1.75 ]; score: -0.8953201970443351\n",
            "point: [39.375  -3.7875  2.5    -8.875  -0.8375  0.975   1.375 ]; score: -0.4083743842364532\n",
            "point: [87.875  -0.8375 -7.5    -4.375  -3.7875  0.875   2.875 ]; score: -0.9438423645320198\n",
            "point: [63.625  -5.2625 -2.5    -6.625  -5.2625  0.925   3.625 ]; score: -0.4083743842364532\n",
            "point: [15.125  -2.3125  7.5    -2.125  -2.3125  0.825   2.125 ]; score: -0.4083743842364532\n",
            "point: [21.1875  -4.15625 -3.75    -3.8125  -2.68125  0.8375   1.1875 ]; score: -0.4083743842364532\n",
            "point: [69.6875  -1.20625  6.25    -8.3125  -5.63125  0.9375   2.6875 ]; score: -0.9438423645320198\n",
            "point: [93.9375  -5.63125  1.25    -1.5625  -4.15625  0.8875   3.4375 ]; score: -0.4083743842364532\n",
            "np.asarray(self.parameters)[[51.5     -3.05     0.      -5.5     -3.05     0.9      2.5    ]\n",
            " [75.75    -4.525    5.      -7.75    -1.575    0.85     3.25   ]\n",
            " [27.25    -1.575   -5.      -3.25    -4.525    0.95     1.75   ]\n",
            " [39.375   -3.7875   2.5     -8.875   -0.8375   0.975    1.375  ]\n",
            " [87.875   -0.8375  -7.5     -4.375   -3.7875   0.875    2.875  ]\n",
            " [63.625   -5.2625  -2.5     -6.625   -5.2625   0.925    3.625  ]\n",
            " [15.125   -2.3125   7.5     -2.125   -2.3125   0.825    2.125  ]\n",
            " [21.1875  -4.15625 -3.75    -3.8125  -2.68125  0.8375   1.1875 ]\n",
            " [69.6875  -1.20625  6.25    -8.3125  -5.63125  0.9375   2.6875 ]\n",
            " [93.9375  -5.63125  1.25    -1.5625  -4.15625  0.8875   3.4375 ]]\n",
            "np.asarray(self.scores)[-0.40837438 -0.40837438 -0.8953202  -0.40837438 -0.94384236 -0.40837438\n",
            " -0.40837438 -0.40837438 -0.94384236 -0.40837438]\n"
          ]
        },
        {
          "name": "stderr",
          "output_type": "stream",
          "text": [
            "100%|██████████| 250/250 [00:04<00:00, 56.80it/s]\n",
            "100%|██████████| 250/250 [00:04<00:00, 52.24it/s]\n"
          ]
        },
        {
          "name": "stdout",
          "output_type": "stream",
          "text": [
            "\n",
            " ...Done. \n",
            "\n",
            "\n",
            " Optimization loop... \n",
            "\n",
            "iteration 1 -----\n",
            "current minimum:  [87.875  -0.8375 -7.5    -4.375  -3.7875  0.875   2.875 ]\n",
            "current minimum score:  -0.9438423645320198\n",
            "next parameter: [48.84765625 -0.67617187 -5.703125   -2.30078125 -5.14726563  0.97578125\n",
            "  1.05859375]\n",
            "score for next parameter: -1.0 \n",
            "\n",
            "\n",
            " Creating initial design... \n",
            "\n",
            "point: [51.5  -3.05  0.   -5.5  -3.05  0.9   2.5 ]; score: -0.4083743842364532\n",
            "point: [75.75  -4.525  5.    -7.75  -1.575  0.85   3.25 ]; score: -0.4083743842364532\n",
            "point: [27.25  -1.575 -5.    -3.25  -4.525  0.95   1.75 ]; score: -0.8953201970443351\n",
            "point: [39.375  -3.7875  2.5    -8.875  -0.8375  0.975   1.375 ]; score: -0.4083743842364532\n",
            "point: [87.875  -0.8375 -7.5    -4.375  -3.7875  0.875   2.875 ]; score: -0.9438423645320198\n",
            "point: [63.625  -5.2625 -2.5    -6.625  -5.2625  0.925   3.625 ]; score: -0.4083743842364532\n",
            "point: [15.125  -2.3125  7.5    -2.125  -2.3125  0.825   2.125 ]; score: -0.4083743842364532\n",
            "point: [21.1875  -4.15625 -3.75    -3.8125  -2.68125  0.8375   1.1875 ]; score: -0.4083743842364532\n",
            "point: [69.6875  -1.20625  6.25    -8.3125  -5.63125  0.9375   2.6875 ]; score: -0.9438423645320198\n",
            "point: [93.9375  -5.63125  1.25    -1.5625  -4.15625  0.8875   3.4375 ]; score: -0.4083743842364532\n",
            "np.asarray(self.parameters)[[51.5     -3.05     0.      -5.5     -3.05     0.9      2.5    ]\n",
            " [75.75    -4.525    5.      -7.75    -1.575    0.85     3.25   ]\n",
            " [27.25    -1.575   -5.      -3.25    -4.525    0.95     1.75   ]\n",
            " [39.375   -3.7875   2.5     -8.875   -0.8375   0.975    1.375  ]\n",
            " [87.875   -0.8375  -7.5     -4.375   -3.7875   0.875    2.875  ]\n",
            " [63.625   -5.2625  -2.5     -6.625   -5.2625   0.925    3.625  ]\n",
            " [15.125   -2.3125   7.5     -2.125   -2.3125   0.825    2.125  ]\n",
            " [21.1875  -4.15625 -3.75    -3.8125  -2.68125  0.8375   1.1875 ]\n",
            " [69.6875  -1.20625  6.25    -8.3125  -5.63125  0.9375   2.6875 ]\n",
            " [93.9375  -5.63125  1.25    -1.5625  -4.15625  0.8875   3.4375 ]]\n",
            "np.asarray(self.scores)[-0.40837438 -0.40837438 -0.8953202  -0.40837438 -0.94384236 -0.40837438\n",
            " -0.40837438 -0.40837438 -0.94384236 -0.40837438]\n",
            "\n",
            " ...Done. \n",
            "\n",
            "\n",
            " Optimization loop... \n",
            "\n",
            "iteration 1 -----\n",
            "current minimum:  [87.875  -0.8375 -7.5    -4.375  -3.7875  0.875   2.875 ]\n",
            "current minimum score:  -0.9438423645320198\n",
            "next parameter: [90.93881226 -0.13258972 -8.17321777 -7.33883667 -5.48450623  0.99008179\n",
            "  3.95889282]\n",
            "score for next parameter: -0.9369458128078818 \n",
            "\n",
            "iteration 2 -----\n",
            "current minimum:  [87.875  -0.8375 -7.5    -4.375  -3.7875  0.875   2.875 ]\n",
            "current minimum score:  -0.9438423645320198\n",
            "next parameter: [93.7598877  -0.26060791 -7.70263672 -4.14538574 -5.19263916  0.8920166\n",
            "  1.13586426]\n",
            "score for next parameter: -1.0 \n",
            "\n",
            "iteration 3 -----\n",
            "current minimum:  [93.7598877  -0.26060791 -7.70263672 -4.14538574 -5.19263916  0.8920166\n",
            "  1.13586426]\n",
            "current minimum score:  -1.0\n",
            "next parameter: [95.16598511 -0.19812927  7.53234863 -8.30014038 -1.18986511  0.96417847\n",
            "  3.94754028]\n",
            "score for next parameter: -0.7807881773399015 \n",
            "\n",
            "iteration 4 -----\n",
            "current minimum:  [93.7598877  -0.26060791 -7.70263672 -4.14538574 -5.19263916  0.8920166\n",
            "  1.13586426]\n",
            "current minimum score:  -1.0\n",
            "next parameter: [80.32055664 -0.35495605  2.78808594 -1.78442383 -5.8401123   0.81879883\n",
            "  1.29516602]\n",
            "score for next parameter: -0.9224137931034484 \n",
            "\n",
            "iteration 5 -----\n",
            "current minimum:  [93.7598877  -0.26060791 -7.70263672 -4.14538574 -5.19263916  0.8920166\n",
            "  1.13586426]\n",
            "current minimum score:  -1.0\n",
            "next parameter: [91.42724609 -0.2987793   6.68945312 -3.93115234 -5.77817383  0.95771484\n",
            "  1.40576172]\n",
            "score for next parameter: -0.9435960591133006 \n",
            "\n",
            "iteration 6 -----\n",
            "current minimum:  [93.7598877  -0.26060791 -7.70263672 -4.14538574 -5.19263916  0.8920166\n",
            "  1.13586426]\n",
            "current minimum score:  -1.0\n",
            "next parameter: [84.92663574 -0.8180542  -9.86572266 -1.30432129 -5.92869873  0.99255371\n",
            "  1.53649902]\n",
            "score for next parameter: -0.9650246305418719 \n",
            "\n",
            "iteration 7 -----\n",
            "current minimum:  [93.7598877  -0.26060791 -7.70263672 -4.14538574 -5.19263916  0.8920166\n",
            "  1.13586426]\n",
            "current minimum score:  -1.0\n",
            "next parameter: [93.91085815 -0.1217865  -1.32019043 -1.59188843 -1.50531921  0.98317261\n",
            "  3.68899536]\n",
            "score for next parameter: -0.9369458128078818 \n",
            "\n",
            "iteration 8 -----\n",
            "current minimum:  [93.7598877  -0.26060791 -7.70263672 -4.14538574 -5.19263916  0.8920166\n",
            "  1.13586426]\n",
            "current minimum score:  -1.0\n",
            "next parameter: [99.2421875  -0.14609375  0.78125    -9.7890625  -5.30859375  0.9796875\n",
            "  1.9140625 ]\n",
            "score for next parameter: -0.9645320197044336 \n",
            "\n",
            "iteration 9 -----\n",
            "current minimum:  [93.7598877  -0.26060791 -7.70263672 -4.14538574 -5.19263916  0.8920166\n",
            "  1.13586426]\n",
            "current minimum score:  -1.0\n",
            "next parameter: [88.94067383 -0.22243652 -9.57519531 -2.35571289 -5.6845459   0.97368164\n",
            "  1.94848633]\n",
            "score for next parameter: -0.9647783251231529 \n",
            "\n",
            "iteration 10 -----\n",
            "current minimum:  [93.7598877  -0.26060791 -7.70263672 -4.14538574 -5.19263916  0.8920166\n",
            "  1.13586426]\n",
            "current minimum score:  -1.0\n",
            "next parameter: [18.41378784 -0.68067322 -7.00378418 -9.45809937 -5.86694031  0.99821167\n",
            "  1.03762817]\n",
            "score for next parameter: -0.9650246305418719 \n",
            "\n",
            "iteration 11 -----\n",
            "current minimum:  [93.7598877  -0.26060791 -7.70263672 -4.14538574 -5.19263916  0.8920166\n",
            "  1.13586426]\n",
            "current minimum score:  -1.0\n",
            "next parameter: [94.36080933 -0.44300232 -9.95788574 -9.69320679 -5.72721863  0.90626831\n",
            "  1.32107544]\n",
            "score for next parameter: -0.9857142857142858 \n",
            "\n"
          ]
        }
      ],
      "source": [
        "dataset = load_wine()\n",
        "X = dataset.data\n",
        "y = dataset.target\n",
        "\n",
        "# split data into training test and test set\n",
        "X_train, X_test, y_train, y_test = train_test_split(X, y,\n",
        "                                                    test_size=0.2, random_state=3137)\n",
        "\n",
        "# hyperparams tuning\n",
        "res_opt = optimize_bcn(X_train, y_train)\n",
        "print(res_opt)"
      ]
    },
    {
      "cell_type": "code",
      "execution_count": null,
      "metadata": {
        "colab": {
          "base_uri": "https://localhost:8080/"
        },
        "id": "7xw2ii1auV6N",
        "outputId": "050fce15-672d-466d-eb51-595b24d0bfad"
      },
      "outputs": [
        {
          "name": "stdout",
          "output_type": "stream",
          "text": [
            "-0.9857142857142858\n"
          ]
        }
      ],
      "source": [
        "print(res_opt.best_score)"
      ]
    },
    {
      "cell_type": "code",
      "execution_count": null,
      "metadata": {
        "id": "sddAUZp5tEGw"
      },
      "outputs": [],
      "source": [
        "res_opt.best_params[\"B\"] = int(res_opt.best_params[\"B\"])\n",
        "res_opt.best_params[\"nu\"] = 10**res_opt.best_params[\"nu\"]\n",
        "res_opt.best_params[\"lam\"] = 10**res_opt.best_params[\"lam\"]\n",
        "res_opt.best_params[\"r\"] = 1 - 10**res_opt.best_params[\"r\"]\n",
        "res_opt.best_params[\"tol\"] = 10**res_opt.best_params[\"tol\"]\n",
        "res_opt.best_params[\"col_sample\"] = np.ceil(res_opt.best_params[\"col_sample\"])\n",
        "res_opt.best_params[\"n_clusters\"] = np.ceil(res_opt.best_params[\"n_clusters\"])"
      ]
    },
    {
      "cell_type": "code",
      "execution_count": null,
      "metadata": {
        "colab": {
          "base_uri": "https://localhost:8080/"
        },
        "id": "zo4LTC_PDEGp",
        "outputId": "0361a23c-ff05-4eb2-f4d4-6ed4f3ea5ed4"
      },
      "outputs": [
        {
          "name": "stdout",
          "output_type": "stream",
          "text": [
            "  |======================================================================| 100%\n",
            "\n",
            " Elapsed: 0.3253192901611328\n",
            "\n",
            "\n",
            " Test set accuracy: 1.0\n",
            "\n",
            " Elapsed: 0.0092620849609375\n"
          ]
        }
      ],
      "source": [
        "start = time()\n",
        "estimator = bcn.BCNClassifier(**res_opt.best_params,\n",
        "                              activation=\"tanh\",\n",
        "                              type_optim=\"nlminb\").fit(X_train, y_train)\n",
        "print(f\"\\n Elapsed: {time() - start}\")\n",
        "start = time()\n",
        "print(f\"\\n\\n Test set accuracy: {estimator.score(X_test, y_test)}\")\n",
        "print(f\"\\n Elapsed: {time() - start}\")"
      ]
    }
  ],
  "metadata": {
    "colab": {
      "provenance": []
    },
    "kernelspec": {
      "display_name": "Python 3",
      "name": "python3"
    },
    "language_info": {
      "codemirror_mode": {
        "name": "ipython",
        "version": 3
      },
      "file_extension": ".py",
      "mimetype": "text/x-python",
      "name": "python",
      "nbconvert_exporter": "python",
      "pygments_lexer": "ipython3",
      "version": "3.11.8"
    }
  },
  "nbformat": 4,
  "nbformat_minor": 0
}
