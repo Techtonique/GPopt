{
  "cells": [
    {
      "cell_type": "markdown",
      "metadata": {
        "id": "ver1MWFiAIH1"
      },
      "source": [
        "# 1 - Install"
      ]
    },
    {
      "cell_type": "code",
      "execution_count": 8,
      "metadata": {
        "id": "cxJzB_Pwry-O"
      },
      "outputs": [
        {
          "name": "stdout",
          "output_type": "stream",
          "text": [
            "Found existing installation: BCN 0.7.1\n",
            "Uninstalling BCN-0.7.1:\n",
            "  Successfully uninstalled BCN-0.7.1\n",
            "Found existing installation: GPopt 0.6.0\n",
            "Uninstalling GPopt-0.6.0:\n",
            "  Successfully uninstalled GPopt-0.6.0\n"
          ]
        }
      ],
      "source": [
        "!pip uninstall -y BCN GPopt"
      ]
    },
    {
      "cell_type": "code",
      "execution_count": 9,
      "metadata": {
        "id": "L7dr5u5k8hW9"
      },
      "outputs": [
        {
          "name": "stdout",
          "output_type": "stream",
          "text": [
            "Collecting BCN\n",
            "  Downloading BCN-0.7.1-py2.py3-none-any.whl.metadata (873 bytes)\n",
            "Requirement already satisfied: joblib in /Users/t/Documents/Python_Packages/GPopt/venv/lib/python3.11/site-packages (from BCN) (1.4.0)\n",
            "Requirement already satisfied: numpy in /Users/t/Documents/Python_Packages/GPopt/venv/lib/python3.11/site-packages (from BCN) (1.26.4)\n",
            "Requirement already satisfied: rpy2 in /Users/t/Documents/Python_Packages/GPopt/venv/lib/python3.11/site-packages (from BCN) (3.5.16)\n",
            "Requirement already satisfied: scikit-learn in /Users/t/Documents/Python_Packages/GPopt/venv/lib/python3.11/site-packages (from BCN) (1.4.2)\n",
            "Requirement already satisfied: cffi>=1.15.1 in /Users/t/Documents/Python_Packages/GPopt/venv/lib/python3.11/site-packages (from rpy2->BCN) (1.16.0)\n",
            "Requirement already satisfied: jinja2 in /Users/t/Documents/Python_Packages/GPopt/venv/lib/python3.11/site-packages (from rpy2->BCN) (3.1.3)\n",
            "Requirement already satisfied: tzlocal in /Users/t/Documents/Python_Packages/GPopt/venv/lib/python3.11/site-packages (from rpy2->BCN) (5.2)\n",
            "Requirement already satisfied: scipy>=1.6.0 in /Users/t/Documents/Python_Packages/GPopt/venv/lib/python3.11/site-packages (from scikit-learn->BCN) (1.13.0)\n",
            "Requirement already satisfied: threadpoolctl>=2.0.0 in /Users/t/Documents/Python_Packages/GPopt/venv/lib/python3.11/site-packages (from scikit-learn->BCN) (3.5.0)\n",
            "Requirement already satisfied: pycparser in /Users/t/Documents/Python_Packages/GPopt/venv/lib/python3.11/site-packages (from cffi>=1.15.1->rpy2->BCN) (2.22)\n",
            "Requirement already satisfied: MarkupSafe>=2.0 in /Users/t/Documents/Python_Packages/GPopt/venv/lib/python3.11/site-packages (from jinja2->rpy2->BCN) (2.1.5)\n",
            "Downloading BCN-0.7.1-py2.py3-none-any.whl (7.6 kB)\n",
            "Installing collected packages: BCN\n",
            "Successfully installed BCN-0.7.1\n"
          ]
        }
      ],
      "source": [
        "!pip install BCN --upgrade --no-cache-dir"
      ]
    },
    {
      "cell_type": "code",
      "execution_count": 10,
      "metadata": {
        "id": "IBA5fko_BA4V"
      },
      "outputs": [
        {
          "name": "stdout",
          "output_type": "stream",
          "text": [
            "Processing /Users/t/Documents/Python_Packages/GPopt\n",
            "  Preparing metadata (setup.py) ... \u001b[?25ldone\n",
            "\u001b[?25hRequirement already satisfied: joblib in /Users/t/Documents/Python_Packages/GPopt/venv/lib/python3.11/site-packages (from GPopt==0.6.0) (1.4.0)\n",
            "Requirement already satisfied: matplotlib in /Users/t/Documents/Python_Packages/GPopt/venv/lib/python3.11/site-packages (from GPopt==0.6.0) (3.8.4)\n",
            "Requirement already satisfied: nnetsauce in /Users/t/Documents/Python_Packages/GPopt/venv/lib/python3.11/site-packages (from GPopt==0.6.0) (0.20.0)\n",
            "Requirement already satisfied: numpy in /Users/t/Documents/Python_Packages/GPopt/venv/lib/python3.11/site-packages (from GPopt==0.6.0) (1.26.4)\n",
            "Requirement already satisfied: pandas in /Users/t/Documents/Python_Packages/GPopt/venv/lib/python3.11/site-packages (from GPopt==0.6.0) (2.2.2)\n",
            "Requirement already satisfied: scipy in /Users/t/Documents/Python_Packages/GPopt/venv/lib/python3.11/site-packages (from GPopt==0.6.0) (1.13.0)\n",
            "Requirement already satisfied: scikit-learn in /Users/t/Documents/Python_Packages/GPopt/venv/lib/python3.11/site-packages (from GPopt==0.6.0) (1.4.2)\n",
            "Requirement already satisfied: threadpoolctl in /Users/t/Documents/Python_Packages/GPopt/venv/lib/python3.11/site-packages (from GPopt==0.6.0) (3.5.0)\n",
            "Requirement already satisfied: contourpy>=1.0.1 in /Users/t/Documents/Python_Packages/GPopt/venv/lib/python3.11/site-packages (from matplotlib->GPopt==0.6.0) (1.2.1)\n",
            "Requirement already satisfied: cycler>=0.10 in /Users/t/Documents/Python_Packages/GPopt/venv/lib/python3.11/site-packages (from matplotlib->GPopt==0.6.0) (0.12.1)\n",
            "Requirement already satisfied: fonttools>=4.22.0 in /Users/t/Documents/Python_Packages/GPopt/venv/lib/python3.11/site-packages (from matplotlib->GPopt==0.6.0) (4.51.0)\n",
            "Requirement already satisfied: kiwisolver>=1.3.1 in /Users/t/Documents/Python_Packages/GPopt/venv/lib/python3.11/site-packages (from matplotlib->GPopt==0.6.0) (1.4.5)\n",
            "Requirement already satisfied: packaging>=20.0 in /Users/t/Documents/Python_Packages/GPopt/venv/lib/python3.11/site-packages (from matplotlib->GPopt==0.6.0) (24.0)\n",
            "Requirement already satisfied: pillow>=8 in /Users/t/Documents/Python_Packages/GPopt/venv/lib/python3.11/site-packages (from matplotlib->GPopt==0.6.0) (10.3.0)\n",
            "Requirement already satisfied: pyparsing>=2.3.1 in /Users/t/Documents/Python_Packages/GPopt/venv/lib/python3.11/site-packages (from matplotlib->GPopt==0.6.0) (3.1.2)\n",
            "Requirement already satisfied: python-dateutil>=2.7 in /Users/t/Documents/Python_Packages/GPopt/venv/lib/python3.11/site-packages (from matplotlib->GPopt==0.6.0) (2.9.0.post0)\n",
            "Requirement already satisfied: requests in /Users/t/Documents/Python_Packages/GPopt/venv/lib/python3.11/site-packages (from nnetsauce->GPopt==0.6.0) (2.31.0)\n",
            "Requirement already satisfied: tqdm in /Users/t/Documents/Python_Packages/GPopt/venv/lib/python3.11/site-packages (from nnetsauce->GPopt==0.6.0) (4.66.2)\n",
            "Requirement already satisfied: jax in /Users/t/Documents/Python_Packages/GPopt/venv/lib/python3.11/site-packages (from nnetsauce->GPopt==0.6.0) (0.4.26)\n",
            "Requirement already satisfied: jaxlib in /Users/t/Documents/Python_Packages/GPopt/venv/lib/python3.11/site-packages (from nnetsauce->GPopt==0.6.0) (0.4.26)\n",
            "Requirement already satisfied: pytz>=2020.1 in /Users/t/Documents/Python_Packages/GPopt/venv/lib/python3.11/site-packages (from pandas->GPopt==0.6.0) (2024.1)\n",
            "Requirement already satisfied: tzdata>=2022.7 in /Users/t/Documents/Python_Packages/GPopt/venv/lib/python3.11/site-packages (from pandas->GPopt==0.6.0) (2024.1)\n",
            "Requirement already satisfied: six>=1.5 in /Users/t/Documents/Python_Packages/GPopt/venv/lib/python3.11/site-packages (from python-dateutil>=2.7->matplotlib->GPopt==0.6.0) (1.16.0)\n",
            "Requirement already satisfied: ml-dtypes>=0.2.0 in /Users/t/Documents/Python_Packages/GPopt/venv/lib/python3.11/site-packages (from jax->nnetsauce->GPopt==0.6.0) (0.4.0)\n",
            "Requirement already satisfied: opt-einsum in /Users/t/Documents/Python_Packages/GPopt/venv/lib/python3.11/site-packages (from jax->nnetsauce->GPopt==0.6.0) (3.3.0)\n",
            "Requirement already satisfied: charset-normalizer<4,>=2 in /Users/t/Documents/Python_Packages/GPopt/venv/lib/python3.11/site-packages (from requests->nnetsauce->GPopt==0.6.0) (3.3.2)\n",
            "Requirement already satisfied: idna<4,>=2.5 in /Users/t/Documents/Python_Packages/GPopt/venv/lib/python3.11/site-packages (from requests->nnetsauce->GPopt==0.6.0) (3.7)\n",
            "Requirement already satisfied: urllib3<3,>=1.21.1 in /Users/t/Documents/Python_Packages/GPopt/venv/lib/python3.11/site-packages (from requests->nnetsauce->GPopt==0.6.0) (2.2.1)\n",
            "Requirement already satisfied: certifi>=2017.4.17 in /Users/t/Documents/Python_Packages/GPopt/venv/lib/python3.11/site-packages (from requests->nnetsauce->GPopt==0.6.0) (2024.2.2)\n",
            "Building wheels for collected packages: GPopt\n",
            "  Building wheel for GPopt (setup.py) ... \u001b[?25ldone\n",
            "\u001b[?25h  Created wheel for GPopt: filename=GPopt-0.6.0-py2.py3-none-any.whl size=71167 sha256=942d1858af551bbde42519cae8cad121ed77ffa4809629bb5a8ffdafceebf1fb\n",
            "  Stored in directory: /private/var/folders/cp/q8d6040n3m38d22z3hkk1zc40000gn/T/pip-ephem-wheel-cache-5f6tzmca/wheels/18/c5/f2/2bcb5749155d04d8e285ee88d9c1f7d49467719147ee803dc9\n",
            "Successfully built GPopt\n",
            "Installing collected packages: GPopt\n",
            "Successfully installed GPopt-0.6.0\n"
          ]
        }
      ],
      "source": [
        "!pip install ../.. --upgrade --no-cache-dir"
      ]
    },
    {
      "cell_type": "code",
      "execution_count": 11,
      "metadata": {
        "id": "FV7pttAu8pXP"
      },
      "outputs": [],
      "source": [
        "import BCN as bcn # takes a long time to run, ONLY the first time it's run\n",
        "import GPopt as gp\n",
        "import numpy as np\n",
        "\n",
        "from sklearn.gaussian_process import GaussianProcessRegressor\n",
        "from sklearn.ensemble import ExtraTreesRegressor, RandomForestRegressor\n",
        "from sklearn.gaussian_process.kernels import Matern\n",
        "from sklearn.datasets import load_iris, load_wine, load_breast_cancer\n",
        "from sklearn.model_selection import train_test_split\n",
        "from sklearn import metrics\n",
        "from time import time"
      ]
    },
    {
      "cell_type": "markdown",
      "metadata": {
        "id": "YniHGO9AAac2"
      },
      "source": [
        "# 2 - cv"
      ]
    },
    {
      "cell_type": "code",
      "execution_count": 12,
      "metadata": {
        "id": "LIGGEBbxCznR"
      },
      "outputs": [],
      "source": [
        "from sklearn.model_selection import cross_val_score"
      ]
    },
    {
      "cell_type": "code",
      "execution_count": 13,
      "metadata": {
        "id": "fIgPu1vBAd7X"
      },
      "outputs": [],
      "source": [
        "def bcn_cv(X_train, y_train,\n",
        "               B = 10, nu = 0.335855,\n",
        "               lam = 10**0.7837525,\n",
        "               r = 1 - 10**(-5.470031),\n",
        "               tol = 10**-7,\n",
        "               col_sample=1,\n",
        "               n_clusters = 3):\n",
        "  \n",
        "  if n_clusters <= 1:\n",
        "    n_clusters = 0 \n",
        "\n",
        "  estimator  = bcn.BCNClassifier(B = int(B),\n",
        "                                 nu = nu,\n",
        "                                 lam = lam,\n",
        "                                 r = r,\n",
        "                                 tol = tol,\n",
        "                                 col_sample = col_sample,\n",
        "                                 n_clusters = n_clusters,\n",
        "                                 activation=\"tanh\",\n",
        "                                 type_optim=\"nlminb\",\n",
        "                                 show_progress = False)\n",
        "\n",
        "  return -cross_val_score(estimator, X_train, y_train,\n",
        "                          scoring='accuracy',\n",
        "                          cv=5, n_jobs=None,\n",
        "                          verbose=0).mean()\n",
        "\n",
        "def optimize_bcn(X_train, y_train):\n",
        "  # objective function for hyperparams tuning  \n",
        "  def crossval_objective(x):\n",
        "    if x[6] <= 1:\n",
        "      x[6] = 0 \n",
        "    return bcn_cv(X_train=X_train,\n",
        "                  y_train=y_train,\n",
        "                  B = int(x[0]),\n",
        "                  nu = 10**x[1],\n",
        "                  lam = 10**x[2],\n",
        "                  r = 1 - 10**x[3],\n",
        "                  tol = 10**x[4],\n",
        "                  col_sample = np.ceil(x[5]),\n",
        "                  n_clusters = np.ceil(x[6]))\n",
        "  gp_opt = gp.GPOpt(objective_func=crossval_objective,\n",
        "                    lower_bound = np.array([   3,    -6, -10, -10,   -6, 0.8, 1]),\n",
        "                    upper_bound = np.array([ 100,  -0.1,  10,  -1, -0.1,   1, 4]),\n",
        "                    params_names=[\"B\", \"nu\", \"lam\", \"r\", \"tol\", \"col_sample\", \"n_clusters\"],                    \n",
        "                    n_init=10, n_iter=190, seed=3137)\n",
        "  return gp_opt.lazyoptimize(verbose=2, abs_tol=1e-3)"
      ]
    },
    {
      "cell_type": "code",
      "execution_count": 14,
      "metadata": {
        "id": "dU2gF9rYC_Q_"
      },
      "outputs": [
        {
          "ename": "AttributeError",
          "evalue": "'GPOpt' object has no attribute 'verbose'",
          "output_type": "error",
          "traceback": [
            "\u001b[0;31m---------------------------------------------------------------------------\u001b[0m",
            "\u001b[0;31mAttributeError\u001b[0m                            Traceback (most recent call last)",
            "Cell \u001b[0;32mIn[14], line 10\u001b[0m\n\u001b[1;32m      6\u001b[0m X_train, X_test, y_train, y_test \u001b[38;5;241m=\u001b[39m train_test_split(X, y,\n\u001b[1;32m      7\u001b[0m                                                     test_size\u001b[38;5;241m=\u001b[39m\u001b[38;5;241m0.2\u001b[39m, random_state\u001b[38;5;241m=\u001b[39m\u001b[38;5;241m3137\u001b[39m)\n\u001b[1;32m      9\u001b[0m \u001b[38;5;66;03m# hyperparams tuning\u001b[39;00m\n\u001b[0;32m---> 10\u001b[0m res_opt \u001b[38;5;241m=\u001b[39m \u001b[43moptimize_bcn\u001b[49m\u001b[43m(\u001b[49m\u001b[43mX_train\u001b[49m\u001b[43m,\u001b[49m\u001b[43m \u001b[49m\u001b[43my_train\u001b[49m\u001b[43m)\u001b[49m\n\u001b[1;32m     11\u001b[0m \u001b[38;5;28mprint\u001b[39m(res_opt)\n",
            "Cell \u001b[0;32mIn[13], line 47\u001b[0m, in \u001b[0;36moptimize_bcn\u001b[0;34m(X_train, y_train)\u001b[0m\n\u001b[1;32m     33\u001b[0m   \u001b[38;5;28;01mreturn\u001b[39;00m bcn_cv(X_train\u001b[38;5;241m=\u001b[39mX_train,\n\u001b[1;32m     34\u001b[0m                 y_train\u001b[38;5;241m=\u001b[39my_train,\n\u001b[1;32m     35\u001b[0m                 B \u001b[38;5;241m=\u001b[39m \u001b[38;5;28mint\u001b[39m(x[\u001b[38;5;241m0\u001b[39m]),\n\u001b[0;32m   (...)\u001b[0m\n\u001b[1;32m     40\u001b[0m                 col_sample \u001b[38;5;241m=\u001b[39m np\u001b[38;5;241m.\u001b[39mceil(x[\u001b[38;5;241m5\u001b[39m]),\n\u001b[1;32m     41\u001b[0m                 n_clusters \u001b[38;5;241m=\u001b[39m np\u001b[38;5;241m.\u001b[39mceil(x[\u001b[38;5;241m6\u001b[39m]))\n\u001b[1;32m     42\u001b[0m gp_opt \u001b[38;5;241m=\u001b[39m gp\u001b[38;5;241m.\u001b[39mGPOpt(objective_func\u001b[38;5;241m=\u001b[39mcrossval_objective,\n\u001b[1;32m     43\u001b[0m                   lower_bound \u001b[38;5;241m=\u001b[39m np\u001b[38;5;241m.\u001b[39marray([   \u001b[38;5;241m3\u001b[39m,    \u001b[38;5;241m-\u001b[39m\u001b[38;5;241m6\u001b[39m, \u001b[38;5;241m-\u001b[39m\u001b[38;5;241m10\u001b[39m, \u001b[38;5;241m-\u001b[39m\u001b[38;5;241m10\u001b[39m,   \u001b[38;5;241m-\u001b[39m\u001b[38;5;241m6\u001b[39m, \u001b[38;5;241m0.8\u001b[39m, \u001b[38;5;241m1\u001b[39m]),\n\u001b[1;32m     44\u001b[0m                   upper_bound \u001b[38;5;241m=\u001b[39m np\u001b[38;5;241m.\u001b[39marray([ \u001b[38;5;241m100\u001b[39m,  \u001b[38;5;241m-\u001b[39m\u001b[38;5;241m0.1\u001b[39m,  \u001b[38;5;241m10\u001b[39m,  \u001b[38;5;241m-\u001b[39m\u001b[38;5;241m1\u001b[39m, \u001b[38;5;241m-\u001b[39m\u001b[38;5;241m0.1\u001b[39m,   \u001b[38;5;241m1\u001b[39m, \u001b[38;5;241m4\u001b[39m]),\n\u001b[1;32m     45\u001b[0m                   params_names\u001b[38;5;241m=\u001b[39m[\u001b[38;5;124m\"\u001b[39m\u001b[38;5;124mB\u001b[39m\u001b[38;5;124m\"\u001b[39m, \u001b[38;5;124m\"\u001b[39m\u001b[38;5;124mnu\u001b[39m\u001b[38;5;124m\"\u001b[39m, \u001b[38;5;124m\"\u001b[39m\u001b[38;5;124mlam\u001b[39m\u001b[38;5;124m\"\u001b[39m, \u001b[38;5;124m\"\u001b[39m\u001b[38;5;124mr\u001b[39m\u001b[38;5;124m\"\u001b[39m, \u001b[38;5;124m\"\u001b[39m\u001b[38;5;124mtol\u001b[39m\u001b[38;5;124m\"\u001b[39m, \u001b[38;5;124m\"\u001b[39m\u001b[38;5;124mcol_sample\u001b[39m\u001b[38;5;124m\"\u001b[39m, \u001b[38;5;124m\"\u001b[39m\u001b[38;5;124mn_clusters\u001b[39m\u001b[38;5;124m\"\u001b[39m],                    \n\u001b[1;32m     46\u001b[0m                   n_init\u001b[38;5;241m=\u001b[39m\u001b[38;5;241m10\u001b[39m, n_iter\u001b[38;5;241m=\u001b[39m\u001b[38;5;241m190\u001b[39m, seed\u001b[38;5;241m=\u001b[39m\u001b[38;5;241m3137\u001b[39m)\n\u001b[0;32m---> 47\u001b[0m \u001b[38;5;28;01mreturn\u001b[39;00m \u001b[43mgp_opt\u001b[49m\u001b[38;5;241;43m.\u001b[39;49m\u001b[43mlazyoptimize\u001b[49m\u001b[43m(\u001b[49m\u001b[43mverbose\u001b[49m\u001b[38;5;241;43m=\u001b[39;49m\u001b[38;5;241;43m2\u001b[39;49m\u001b[43m,\u001b[49m\u001b[43m \u001b[49m\u001b[43mabs_tol\u001b[49m\u001b[38;5;241;43m=\u001b[39;49m\u001b[38;5;241;43m1e-3\u001b[39;49m\u001b[43m)\u001b[49m\n",
            "File \u001b[0;32m~/Documents/Python_Packages/GPopt/venv/lib/python3.11/site-packages/GPopt/GPOpt/GPOpt.py:862\u001b[0m, in \u001b[0;36mGPOpt.lazyoptimize\u001b[0;34m(self, verbose, n_more_iter, abs_tol, min_budget, func_args, estimators)\u001b[0m\n\u001b[1;32m    858\u001b[0m \u001b[38;5;28mself\u001b[39m\u001b[38;5;241m.\u001b[39mresults_ \u001b[38;5;241m=\u001b[39m []\n\u001b[1;32m    860\u001b[0m \u001b[38;5;28;01mfor\u001b[39;00m i \u001b[38;5;129;01min\u001b[39;00m \u001b[38;5;28mrange\u001b[39m(\u001b[38;5;28mlen\u001b[39m(\u001b[38;5;28mself\u001b[39m\u001b[38;5;241m.\u001b[39mregressors)):\n\u001b[0;32m--> 862\u001b[0m     \u001b[38;5;28;01mif\u001b[39;00m \u001b[38;5;28;43mself\u001b[39;49m\u001b[38;5;241;43m.\u001b[39;49m\u001b[43mverbose\u001b[49m \u001b[38;5;241m==\u001b[39m \u001b[38;5;241m2\u001b[39m:\n\u001b[1;32m    863\u001b[0m         \u001b[38;5;28mprint\u001b[39m(\u001b[38;5;124mf\u001b[39m\u001b[38;5;124m\"\u001b[39m\u001b[38;5;130;01m\\n\u001b[39;00m\u001b[38;5;124m using surrogate model # \u001b[39m\u001b[38;5;132;01m{\u001b[39;00mi\u001b[38;5;132;01m}\u001b[39;00m\u001b[38;5;124m (\u001b[39m\u001b[38;5;132;01m{\u001b[39;00m\u001b[38;5;28mself\u001b[39m\u001b[38;5;241m.\u001b[39mregressors[i][\u001b[38;5;241m0\u001b[39m]\u001b[38;5;132;01m}\u001b[39;00m\u001b[38;5;124m)... \u001b[39m\u001b[38;5;130;01m\\n\u001b[39;00m\u001b[38;5;124m\"\u001b[39m)\n\u001b[1;32m    865\u001b[0m     \u001b[38;5;28mself\u001b[39m\u001b[38;5;241m.\u001b[39msurrogate_obj \u001b[38;5;241m=\u001b[39m \u001b[38;5;28mself\u001b[39m\u001b[38;5;241m.\u001b[39mregressors[i][\u001b[38;5;241m1\u001b[39m]\n",
            "\u001b[0;31mAttributeError\u001b[0m: 'GPOpt' object has no attribute 'verbose'"
          ]
        }
      ],
      "source": [
        "dataset = load_wine()\n",
        "X = dataset.data\n",
        "y = dataset.target\n",
        "\n",
        "# split data into training test and test set\n",
        "X_train, X_test, y_train, y_test = train_test_split(X, y,\n",
        "                                                    test_size=0.2, random_state=3137)\n",
        "\n",
        "# hyperparams tuning\n",
        "res_opt = optimize_bcn(X_train, y_train)\n",
        "print(res_opt)"
      ]
    },
    {
      "cell_type": "code",
      "execution_count": null,
      "metadata": {
        "colab": {
          "base_uri": "https://localhost:8080/"
        },
        "id": "7xw2ii1auV6N",
        "outputId": "050fce15-672d-466d-eb51-595b24d0bfad"
      },
      "outputs": [
        {
          "name": "stdout",
          "output_type": "stream",
          "text": [
            "-0.9857142857142858\n"
          ]
        }
      ],
      "source": [
        "print(res_opt.best_score)"
      ]
    },
    {
      "cell_type": "code",
      "execution_count": null,
      "metadata": {
        "id": "sddAUZp5tEGw"
      },
      "outputs": [],
      "source": [
        "res_opt.best_params[\"B\"] = int(res_opt.best_params[\"B\"])\n",
        "res_opt.best_params[\"nu\"] = 10**res_opt.best_params[\"nu\"]\n",
        "res_opt.best_params[\"lam\"] = 10**res_opt.best_params[\"lam\"]\n",
        "res_opt.best_params[\"r\"] = 1 - 10**res_opt.best_params[\"r\"]\n",
        "res_opt.best_params[\"tol\"] = 10**res_opt.best_params[\"tol\"]\n",
        "res_opt.best_params[\"col_sample\"] = np.ceil(res_opt.best_params[\"col_sample\"])\n",
        "res_opt.best_params[\"n_clusters\"] = np.ceil(res_opt.best_params[\"n_clusters\"])"
      ]
    },
    {
      "cell_type": "code",
      "execution_count": null,
      "metadata": {
        "colab": {
          "base_uri": "https://localhost:8080/"
        },
        "id": "zo4LTC_PDEGp",
        "outputId": "0361a23c-ff05-4eb2-f4d4-6ed4f3ea5ed4"
      },
      "outputs": [
        {
          "name": "stdout",
          "output_type": "stream",
          "text": [
            "  |======================================================================| 100%\n",
            "\n",
            " Elapsed: 0.3253192901611328\n",
            "\n",
            "\n",
            " Test set accuracy: 1.0\n",
            "\n",
            " Elapsed: 0.0092620849609375\n"
          ]
        }
      ],
      "source": [
        "start = time()\n",
        "estimator = bcn.BCNClassifier(**res_opt.best_params,\n",
        "                              activation=\"tanh\",\n",
        "                              type_optim=\"nlminb\").fit(X_train, y_train)\n",
        "print(f\"\\n Elapsed: {time() - start}\")\n",
        "start = time()\n",
        "print(f\"\\n\\n Test set accuracy: {estimator.score(X_test, y_test)}\")\n",
        "print(f\"\\n Elapsed: {time() - start}\")"
      ]
    }
  ],
  "metadata": {
    "colab": {
      "provenance": []
    },
    "kernelspec": {
      "display_name": "Python 3",
      "name": "python3"
    },
    "language_info": {
      "codemirror_mode": {
        "name": "ipython",
        "version": 3
      },
      "file_extension": ".py",
      "mimetype": "text/x-python",
      "name": "python",
      "nbconvert_exporter": "python",
      "pygments_lexer": "ipython3",
      "version": "3.11.8"
    }
  },
  "nbformat": 4,
  "nbformat_minor": 0
}
